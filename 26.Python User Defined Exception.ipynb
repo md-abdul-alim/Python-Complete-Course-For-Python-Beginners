{
 "cells": [
  {
   "cell_type": "code",
   "execution_count": 11,
   "metadata": {},
   "outputs": [
    {
     "name": "stdout",
     "output_type": "stream",
     "text": [
      "Enter age:5\n",
      "Voter is not Elligible\n",
      "End of the program\n"
     ]
    }
   ],
   "source": [
    "class VotersElligibility(Exception):\n",
    "    def __int__(self):\n",
    "        super() #we are calling Exception base class constructor\n",
    "try:\n",
    "    age = int(input(\"Enter age:\"))\n",
    "    if age < 18:\n",
    "        raise VotersElligibility\n",
    "except VotersElligibility:\n",
    "    print(\"Voter is not Elligible\")\n",
    "else:\n",
    "    print(\"Voter is Elligible\")\n",
    "finally:\n",
    "    print(\"End of the program\")"
   ]
  },
  {
   "cell_type": "code",
   "execution_count": 15,
   "metadata": {},
   "outputs": [
    {
     "name": "stdout",
     "output_type": "stream",
     "text": [
      "Enter age:sdfsf\n",
      "Age is not numeric\n",
      "End of the program\n"
     ]
    }
   ],
   "source": [
    "class VotersElligibility(Exception):\n",
    "    def __int__(self):\n",
    "        super() #we are calling Exception base class constructor\n",
    "try:\n",
    "    age = int(input(\"Enter age:\"))\n",
    "    print(\"Age is \"+str(age))\n",
    "    if age < 18:\n",
    "        raise VotersElligibility\n",
    "except VotersElligibility:\n",
    "    print(\"Voter is not Elligible\")\n",
    "except ValueError:\n",
    "    print(\"Age is not numeric\")\n",
    "else:\n",
    "    print(\"Voter is Elligible\")\n",
    "finally:\n",
    "    print(\"End of the program\")"
   ]
  },
  {
   "cell_type": "code",
   "execution_count": null,
   "metadata": {},
   "outputs": [],
   "source": []
  }
 ],
 "metadata": {
  "kernelspec": {
   "display_name": "Python 3",
   "language": "python",
   "name": "python3"
  },
  "language_info": {
   "codemirror_mode": {
    "name": "ipython",
    "version": 3
   },
   "file_extension": ".py",
   "mimetype": "text/x-python",
   "name": "python",
   "nbconvert_exporter": "python",
   "pygments_lexer": "ipython3",
   "version": "3.7.9"
  }
 },
 "nbformat": 4,
 "nbformat_minor": 4
}
