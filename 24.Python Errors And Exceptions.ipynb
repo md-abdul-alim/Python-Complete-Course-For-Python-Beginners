{
 "cells": [
  {
   "cell_type": "code",
   "execution_count": 1,
   "metadata": {},
   "outputs": [],
   "source": [
    "#AssertionError -> Rasised when assert statement fails.\n",
    "#AttributeError -> Rasied when attribute assignment or reference fails\n",
    "#EOFError -> Raised when the input() functions hits end-of-file condition\n",
    "#FloatingPointError -> Raised when a floating point operation fails.\n",
    "#GeneratiorExit -> RAise when a generator's close() method is called.\n",
    "#ImporteError -> Rasied when the imported module is not found\n",
    "#indexError -> Raised when index of a sequence is out of range"
   ]
  },
  {
   "cell_type": "code",
   "execution_count": 4,
   "metadata": {},
   "outputs": [
    {
     "name": "stdout",
     "output_type": "stream",
     "text": [
      "Exception caught!\n"
     ]
    }
   ],
   "source": [
    "try:\n",
    "    \"\"\"The code which can give rise to an exception is written here.\"\"\"\n",
    "    a = 'hi'\n",
    "    b = int(a) #we can not convert string to int\n",
    "except:\n",
    "    print(\"Exception caught!\")"
   ]
  },
  {
   "cell_type": "code",
   "execution_count": 5,
   "metadata": {},
   "outputs": [
    {
     "name": "stdout",
     "output_type": "stream",
     "text": [
      "Division by zero is not possible.\n"
     ]
    }
   ],
   "source": [
    "#Catching specific exception\n",
    "try:\n",
    "    a = 5\n",
    "    b = 0\n",
    "    c = a/b\n",
    "except ZeroDivisionError:\n",
    "    print(\"Division by zero is not possible.\")"
   ]
  },
  {
   "cell_type": "code",
   "execution_count": 6,
   "metadata": {},
   "outputs": [
    {
     "name": "stdout",
     "output_type": "stream",
     "text": [
      "TypeError Exception caught!\n"
     ]
    }
   ],
   "source": [
    "#Exceptions can be raised also\n",
    "try:\n",
    "    raise TypeError\n",
    "except TypeError:\n",
    "    print(\"TypeError Exception caught!\")"
   ]
  },
  {
   "cell_type": "code",
   "execution_count": 7,
   "metadata": {},
   "outputs": [
    {
     "name": "stdout",
     "output_type": "stream",
     "text": [
      "In try block\n",
      "In the finally block\n"
     ]
    }
   ],
   "source": [
    "#try...finally\n",
    "try:\n",
    "    print(\"In try block\")\n",
    "    #raise TypeError\n",
    "except:\n",
    "    print(\"In except block\")\n",
    "finally:\n",
    "    print(\"In the finally block\")"
   ]
  },
  {
   "cell_type": "code",
   "execution_count": null,
   "metadata": {},
   "outputs": [],
   "source": []
  }
 ],
 "metadata": {
  "kernelspec": {
   "display_name": "Python 3",
   "language": "python",
   "name": "python3"
  },
  "language_info": {
   "codemirror_mode": {
    "name": "ipython",
    "version": 3
   },
   "file_extension": ".py",
   "mimetype": "text/x-python",
   "name": "python",
   "nbconvert_exporter": "python",
   "pygments_lexer": "ipython3",
   "version": "3.7.9"
  }
 },
 "nbformat": 4,
 "nbformat_minor": 4
}
