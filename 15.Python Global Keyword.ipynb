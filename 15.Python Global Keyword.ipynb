{
 "cells": [
  {
   "cell_type": "code",
   "execution_count": null,
   "metadata": {},
   "outputs": [],
   "source": [
    "def func1():\n",
    "    x = 20\n",
    "    def func2():\n",
    "        global x #Global keyword is used to modify a global variable\n",
    "        x = 25\n",
    "    print(\"Before calling func2: \",x)\n",
    "    print(\"Calling func2 now\")\n",
    "    func2()\n",
    "    print(\"After calling func2:\")"
   ]
  }
 ],
 "metadata": {
  "kernelspec": {
   "display_name": "Python 3",
   "language": "python",
   "name": "python3"
  },
  "language_info": {
   "codemirror_mode": {
    "name": "ipython",
    "version": 3
   },
   "file_extension": ".py",
   "mimetype": "text/x-python",
   "name": "python",
   "nbconvert_exporter": "python",
   "pygments_lexer": "ipython3",
   "version": "3.7.9"
  }
 },
 "nbformat": 4,
 "nbformat_minor": 4
}
