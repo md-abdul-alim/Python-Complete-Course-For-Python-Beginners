{
 "cells": [
  {
   "cell_type": "code",
   "execution_count": 1,
   "metadata": {},
   "outputs": [
    {
     "name": "stdout",
     "output_type": "stream",
     "text": [
      "{1: 'hello', 2: 'hi', 3: 'Milon'}\n",
      "hello\n",
      "hi\n",
      "{1: 'hey', 2: 'hi', 3: 'Milon'}\n",
      "{1: 'hey', 2: 'hi', 3: 'Milon', 4: 'salam'}\n"
     ]
    }
   ],
   "source": [
    "#Accessing elements from a dictonary\n",
    "d1={1:\"hello\",2:\"hi\",3:\"Milon\"}\n",
    "print(d1)\n",
    "print(d1[1])\n",
    "print(d1.get(2))\n",
    "\n",
    "#updating value\n",
    "d1[1]=\"hey\"\n",
    "print(d1)\n",
    "#adding value\n",
    "d1[4]=\"salam\"\n",
    "print(d1)"
   ]
  },
  {
   "cell_type": "code",
   "execution_count": 2,
   "metadata": {},
   "outputs": [
    {
     "name": "stdout",
     "output_type": "stream",
     "text": [
      "{1: 1, 2: 4, 3: 9, 4: 16, 5: 25}\n",
      "16\n",
      "{1: 1, 2: 4, 3: 9, 5: 25}\n",
      "(5, 25)\n",
      "{1: 1, 2: 4, 3: 9}\n",
      "{2: 4, 3: 9}\n"
     ]
    }
   ],
   "source": [
    "#creating a new dictionary\n",
    "squares = {1:1,2:4,3:9,4:16,5:25}\n",
    "print(squares)\n",
    "#remove a particular item\n",
    "print(squares.pop(4))\n",
    "print(squares)\n",
    "\n",
    "#remove an arbitrary item\n",
    "print(squares.popitem())\n",
    "print(squares)\n",
    "\n",
    "#delete a particular item\n",
    "del squares[1]\n",
    "print(squares)"
   ]
  },
  {
   "cell_type": "code",
   "execution_count": 4,
   "metadata": {},
   "outputs": [
    {
     "name": "stdout",
     "output_type": "stream",
     "text": [
      "{1: 1, 2: 4, 3: 9, 4: 16, 5: 25}\n",
      "{}\n"
     ]
    }
   ],
   "source": [
    "#creating a new dictornary\n",
    "squares = {1:1,2:4,3:9,4:16,5:25}\n",
    "print(squares)\n",
    "#remove all items\n",
    "squares.clear()\n",
    "#output{}\n",
    "print(squares)\n",
    "#delete the dictionary itself\n",
    "del squares\n",
    "#throws error as the dictionary has been deleted\n",
    "#print(squares) #error"
   ]
  },
  {
   "cell_type": "code",
   "execution_count": 6,
   "metadata": {},
   "outputs": [
    {
     "name": "stdout",
     "output_type": "stream",
     "text": [
      "{0: 0, 1: 1, 2: 4, 3: 9, 4: 16, 5: 25}\n",
      "True\n",
      "True\n",
      "False\n"
     ]
    }
   ],
   "source": [
    "#creating a new dictionary using comprehension\n",
    "s={x: x*x for x in range(6)}\n",
    "print(s)\n",
    "#dictionary membership test\n",
    "s={1:1, 3:9, 5:25, 7:49, 9:81}\n",
    "print(1 in s)\n",
    "print(2 not in s)\n",
    "#membership tests for key only not value\n",
    "print(49 in s)"
   ]
  },
  {
   "cell_type": "code",
   "execution_count": 8,
   "metadata": {},
   "outputs": [
    {
     "name": "stdout",
     "output_type": "stream",
     "text": [
      "1\n",
      "9\n",
      "25\n",
      "49\n",
      "81\n",
      "5\n",
      "[1, 3, 5, 7, 9]\n"
     ]
    }
   ],
   "source": [
    "#iterating through a dictionary\n",
    "s={1:1, 3:9, 5:25, 7:49, 9:81}\n",
    "for i in s:\n",
    "    print(s[i])\n",
    "#Using built-in function in a dictornary\n",
    "s={1:1, 3:9, 5:25, 7:49, 9:81}\n",
    "print(len(s))\n",
    "print(sorted(s))"
   ]
  },
  {
   "cell_type": "code",
   "execution_count": null,
   "metadata": {},
   "outputs": [],
   "source": []
  }
 ],
 "metadata": {
  "kernelspec": {
   "display_name": "Python 3",
   "language": "python",
   "name": "python3"
  },
  "language_info": {
   "codemirror_mode": {
    "name": "ipython",
    "version": 3
   },
   "file_extension": ".py",
   "mimetype": "text/x-python",
   "name": "python",
   "nbconvert_exporter": "python",
   "pygments_lexer": "ipython3",
   "version": "3.8.5"
  }
 },
 "nbformat": 4,
 "nbformat_minor": 4
}
