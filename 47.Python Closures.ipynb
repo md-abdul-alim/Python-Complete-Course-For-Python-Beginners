{
 "cells": [
  {
   "cell_type": "code",
   "execution_count": 1,
   "metadata": {},
   "outputs": [],
   "source": [
    "#Closure is a function object that remembers values in enclosing scopes even if they are not present in memory"
   ]
  },
  {
   "cell_type": "code",
   "execution_count": 2,
   "metadata": {},
   "outputs": [
    {
     "name": "stdout",
     "output_type": "stream",
     "text": [
      "Hello\n"
     ]
    }
   ],
   "source": [
    "#Defining a closure function\n",
    "def print_message(message):\n",
    "    #This is the outer enclosing function\n",
    "    def print_message_inner():\n",
    "        #this is the nested function\n",
    "        print(message)\n",
    "    return print_message_inner #this got changed\n",
    "\n",
    "#Now let's try calling this function\n",
    "#output: hello\n",
    "another = print_message(\"Hello\")\n",
    "another()"
   ]
  },
  {
   "cell_type": "code",
   "execution_count": 6,
   "metadata": {},
   "outputs": [
    {
     "name": "stdout",
     "output_type": "stream",
     "text": [
      "27\n",
      "15\n",
      "30\n"
     ]
    }
   ],
   "source": [
    "#Another demonstration of the closure function\n",
    "def multiplier_outer(n):\n",
    "    def multiplier_inner(x):\n",
    "        return x*n\n",
    "    return multiplier_inner\n",
    "\n",
    "#Mulitplier of 3\n",
    "times3 = multiplier_outer(3)\n",
    "\n",
    "#multiplier of 5\n",
    "times5 = multiplier_outer(5)\n",
    "\n",
    "#Output = 27\n",
    "print(times3(9))\n",
    "#output = 15\n",
    "print(times5(3))\n",
    "#output = 30\n",
    "print(times5(times3(2))) # 5 * 3 * 2"
   ]
  },
  {
   "cell_type": "code",
   "execution_count": null,
   "metadata": {},
   "outputs": [],
   "source": []
  }
 ],
 "metadata": {
  "kernelspec": {
   "display_name": "Python 3",
   "language": "python",
   "name": "python3"
  },
  "language_info": {
   "codemirror_mode": {
    "name": "ipython",
    "version": 3
   },
   "file_extension": ".py",
   "mimetype": "text/x-python",
   "name": "python",
   "nbconvert_exporter": "python",
   "pygments_lexer": "ipython3",
   "version": "3.7.9"
  }
 },
 "nbformat": 4,
 "nbformat_minor": 4
}
