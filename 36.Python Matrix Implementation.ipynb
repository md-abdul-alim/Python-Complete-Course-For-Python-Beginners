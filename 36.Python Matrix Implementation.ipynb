{
 "cells": [
  {
   "cell_type": "code",
   "execution_count": 1,
   "metadata": {},
   "outputs": [
    {
     "name": "stdout",
     "output_type": "stream",
     "text": [
      "[['Roy', 23, 12, 54, 76, 22], ['Alim', 45, 56, 76, 24, 74], ['Mily', 56, 90, 34, 54, 56]]\n",
      "\n",
      "[['Roy', 23, 12, 54, 76, 22], ['Alim', 45, 56, 24, 74], ['Mily', 56, 90, 34, 54, 56]]\n"
     ]
    }
   ],
   "source": [
    "# a is 2-D matrix with integers\n",
    "a = [['Roy',23,12,54,76,22],\n",
    "     ['Alim',45,56,76,24,74],\n",
    "     ['Mily',56,90,34,54,56]]\n",
    "\n",
    "#b is a nested list but not a matrix\n",
    "b = [['Roy',23,12,54,76,22],\n",
    "     ['Alim',45,56,24,74],\n",
    "     ['Mily',56,90,34,54,56]]\n",
    "print(a)\n",
    "print()\n",
    "print(b)"
   ]
  },
  {
   "cell_type": "code",
   "execution_count": 2,
   "metadata": {},
   "outputs": [
    {
     "name": "stdout",
     "output_type": "stream",
     "text": [
      "[0, 0, 0]\n",
      "[[0, 0, 0, 0], [0, 0, 0, 0], [0, 0, 0, 0]]\n"
     ]
    }
   ],
   "source": [
    "# Creating a dynamic matrix using for loop in python\n",
    "n = 3\n",
    "m = 4\n",
    "a = [0] * n\n",
    "print(a)\n",
    "for i in range(n):\n",
    "    a[i] = [0] * m\n",
    "print(a)"
   ]
  },
  {
   "cell_type": "code",
   "execution_count": 3,
   "metadata": {},
   "outputs": [
    {
     "name": "stdout",
     "output_type": "stream",
     "text": [
      "[[0, 0, 0, 0], [0, 0, 0, 0], [0, 0, 0, 0]]\n",
      "[0, 0, 0, 0]\n",
      "0\n",
      "0\n"
     ]
    }
   ],
   "source": [
    "# Accessing elements from a matrix\n",
    "print(a)\n",
    "print(a[0])\n",
    "print(a[0][1])\n",
    "print(a[1][2])"
   ]
  },
  {
   "cell_type": "code",
   "execution_count": 4,
   "metadata": {},
   "outputs": [
    {
     "name": "stdout",
     "output_type": "stream",
     "text": [
      "[[0, 0, 0, 0], [0, 0, 0, 0], [0, 0, 0, 0]]\n",
      "[0, 0, 0, 0]\n",
      "0\n",
      "0\n"
     ]
    }
   ],
   "source": [
    "#Negative Indexing\n",
    "print(a)\n",
    "print(a[-1])\n",
    "print(a[-1][-2])\n",
    "print(a[-2][-3])"
   ]
  },
  {
   "cell_type": "code",
   "execution_count": null,
   "metadata": {},
   "outputs": [],
   "source": []
  }
 ],
 "metadata": {
  "kernelspec": {
   "display_name": "Python 3",
   "language": "python",
   "name": "python3"
  },
  "language_info": {
   "codemirror_mode": {
    "name": "ipython",
    "version": 3
   },
   "file_extension": ".py",
   "mimetype": "text/x-python",
   "name": "python",
   "nbconvert_exporter": "python",
   "pygments_lexer": "ipython3",
   "version": "3.7.9"
  }
 },
 "nbformat": 4,
 "nbformat_minor": 4
}
