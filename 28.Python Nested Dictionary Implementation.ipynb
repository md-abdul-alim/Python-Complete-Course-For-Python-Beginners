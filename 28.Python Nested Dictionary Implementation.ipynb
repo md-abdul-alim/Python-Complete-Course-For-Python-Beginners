{
 "cells": [
  {
   "cell_type": "code",
   "execution_count": 1,
   "metadata": {},
   "outputs": [
    {
     "name": "stdout",
     "output_type": "stream",
     "text": [
      "{1: {'name': 'Milon', 'age': '25', 'sex': 'Male'}, 2: {'name': 'Mily', 'age': '23', 'sex': 'Female'}}\n",
      "Milon\n",
      "Mily\n",
      "Male\n"
     ]
    }
   ],
   "source": [
    "# Declaring and defining a nested dictionary\n",
    "people ={1: {'name':'Milon','age':'25','sex':'Male'},\n",
    "         2: {'name':'Mily','age':'23','sex':'Female'}}\n",
    "print(people)\n",
    "#Accessing elements of the dictionary\n",
    "print(people[1]['name'])\n",
    "print(people[2]['name'])\n",
    "print(people[1]['sex'])"
   ]
  },
  {
   "cell_type": "code",
   "execution_count": 2,
   "metadata": {},
   "outputs": [
    {
     "name": "stdout",
     "output_type": "stream",
     "text": [
      "{1: {'name': 'Milon', 'age': '25', 'sex': 'Male'}, 2: {'name': 'Mily', 'age': '23', 'sex': 'Female'}, 3: {'name': 'Alim', 'age': '23', 'sex': 'Male', 'married': 'No'}}\n"
     ]
    }
   ],
   "source": [
    "people[3] = {}\n",
    "#adding elements to a dictionary\n",
    "people[3]['name']='Alim'\n",
    "people[3]['age']='23'\n",
    "people[3]['sex']='Male'\n",
    "people[3]['married']='No'\n",
    "print(people)"
   ]
  },
  {
   "cell_type": "code",
   "execution_count": 3,
   "metadata": {},
   "outputs": [
    {
     "name": "stdout",
     "output_type": "stream",
     "text": [
      "{'name': 'Biddut', 'age': '22', 'sex': 'Male', 'married': 'No'}\n",
      "{1: {'name': 'Milon', 'age': '25', 'sex': 'Male'}, 2: {'name': 'Mily', 'age': '23', 'sex': 'Female'}, 3: {'name': 'Alim', 'age': '23', 'sex': 'Male', 'married': 'No'}, 4: {'name': 'Biddut', 'age': '22', 'sex': 'Male', 'married': 'No'}}\n"
     ]
    }
   ],
   "source": [
    "# Adding dictionary to a nested dictionary\n",
    "people[4] = {'name':'Biddut','age':'22','sex':'Male','married':'No'}\n",
    "print(people[4])\n",
    "print(people)"
   ]
  },
  {
   "cell_type": "code",
   "execution_count": 4,
   "metadata": {},
   "outputs": [
    {
     "name": "stdout",
     "output_type": "stream",
     "text": [
      "{'name': 'Alim', 'age': '23', 'sex': 'Male', 'married': 'No'}\n",
      "{'name': 'Biddut', 'age': '22', 'sex': 'Male', 'married': 'No'}\n",
      "{'name': 'Alim', 'age': '23', 'sex': 'Male'}\n",
      "{'name': 'Biddut', 'age': '22', 'married': 'No'}\n"
     ]
    }
   ],
   "source": [
    "#Deleting elements from a dictionary\n",
    "print(people[3])\n",
    "print(people[4])\n",
    "\n",
    "del people[3]['married']\n",
    "del people[4]['sex']\n",
    "print(people[3])\n",
    "print(people[4])"
   ]
  },
  {
   "cell_type": "code",
   "execution_count": 5,
   "metadata": {},
   "outputs": [
    {
     "name": "stdout",
     "output_type": "stream",
     "text": [
      "{1: {'name': 'Milon', 'age': '25', 'sex': 'Male'}, 2: {'name': 'Mily', 'age': '23', 'sex': 'Female'}}\n"
     ]
    }
   ],
   "source": [
    "#Deleting dictionary from a nested dictionary\n",
    "\n",
    "del people[3], people[4]\n",
    "print(people)"
   ]
  },
  {
   "cell_type": "code",
   "execution_count": 6,
   "metadata": {},
   "outputs": [
    {
     "name": "stdout",
     "output_type": "stream",
     "text": [
      "dict_items([(1, {'name': 'Milon', 'age': '25', 'sex': 'Male'}), (2, {'name': 'Mily', 'age': '23', 'sex': 'Female'})])\n",
      "\n",
      "Person ID: 1\n",
      "name: Milon\n",
      "age: 25\n",
      "sex: Male\n",
      "\n",
      "Person ID: 2\n",
      "name: Mily\n",
      "age: 23\n",
      "sex: Female\n"
     ]
    }
   ],
   "source": [
    "# Iterating through a nested dictionary\n",
    "print(people.items())\n",
    "for p_id, p_info in people.items():\n",
    "    print('\\nPerson ID:', p_id)\n",
    "    \n",
    "    for key in p_info:\n",
    "        print(key + ':',p_info[key])"
   ]
  },
  {
   "cell_type": "code",
   "execution_count": null,
   "metadata": {},
   "outputs": [],
   "source": []
  }
 ],
 "metadata": {
  "kernelspec": {
   "display_name": "Python 3",
   "language": "python",
   "name": "python3"
  },
  "language_info": {
   "codemirror_mode": {
    "name": "ipython",
    "version": 3
   },
   "file_extension": ".py",
   "mimetype": "text/x-python",
   "name": "python",
   "nbconvert_exporter": "python",
   "pygments_lexer": "ipython3",
   "version": "3.7.9"
  }
 },
 "nbformat": 4,
 "nbformat_minor": 4
}
