{
 "cells": [
  {
   "cell_type": "code",
   "execution_count": 1,
   "metadata": {},
   "outputs": [
    {
     "name": "stdout",
     "output_type": "stream",
     "text": [
      "Int: <class 'int'>\n",
      "Float: <class 'float'>\n",
      "New type: <class 'float'>\n"
     ]
    }
   ],
   "source": [
    "#Implicit Type Conversion\n",
    "num_int = 123\n",
    "num_float = 1.23\n",
    "\n",
    "num_new = num_int + num_float\n",
    "\n",
    "print(\"Int:\", type(num_int))\n",
    "print(\"Float:\", type(num_float))\n",
    "print(\"New type:\",type(num_new))"
   ]
  },
  {
   "cell_type": "code",
   "execution_count": 4,
   "metadata": {},
   "outputs": [
    {
     "name": "stdout",
     "output_type": "stream",
     "text": [
      "string: <class 'str'>\n"
     ]
    }
   ],
   "source": [
    "num_str = '456'\n",
    "print(\"string:\", type(num_str))\n",
    "#error: Implicit conversion will not work here\n",
    "#print(num_int + num_str)"
   ]
  },
  {
   "cell_type": "code",
   "execution_count": 5,
   "metadata": {},
   "outputs": [
    {
     "name": "stdout",
     "output_type": "stream",
     "text": [
      "Convert string type to int:  <class 'int'>\n"
     ]
    }
   ],
   "source": [
    "#Explicit Type conversion\n",
    "con_num_str = int(num_str)\n",
    "print(\"Convert string type to int: \", type(con_num_str))\n",
    "num_sum = num_int +con_num_str\n",
    "print(\"Sumation data type:\", type(n))"
   ]
  },
  {
   "cell_type": "code",
   "execution_count": null,
   "metadata": {},
   "outputs": [],
   "source": []
  }
 ],
 "metadata": {
  "kernelspec": {
   "display_name": "Python 3",
   "language": "python",
   "name": "python3"
  },
  "language_info": {
   "codemirror_mode": {
    "name": "ipython",
    "version": 3
   },
   "file_extension": ".py",
   "mimetype": "text/x-python",
   "name": "python",
   "nbconvert_exporter": "python",
   "pygments_lexer": "ipython3",
   "version": "3.7.9"
  }
 },
 "nbformat": 4,
 "nbformat_minor": 4
}
