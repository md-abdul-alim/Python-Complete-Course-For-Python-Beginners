{
 "cells": [
  {
   "cell_type": "code",
   "execution_count": 2,
   "metadata": {},
   "outputs": [
    {
     "name": "stdout",
     "output_type": "stream",
     "text": [
      "List1 ->  [[1, 2, 3], [4, 5, 6], [7, 8, 9]]\n",
      "List2 ->  [[1, 2, 3], [4, 5, 6], [7, 8, 9]]\n",
      "id of list1 ->  1893952859528\n",
      "id of list2 ->  1893952859528\n",
      "list 1 ->  [[1, 2, 3], [4, 5, 6], [7, 8, 9], [10, 11, 12]]\n",
      "list 2 ->  [[1, 2, 3], [4, 5, 6], [7, 8, 9], [10, 11, 12]]\n"
     ]
    }
   ],
   "source": [
    "list1=[[1,2,3], [4,5,6],[7,8,9]]\n",
    "list2 = list1\n",
    "print(\"List1 -> \", list1)\n",
    "print(\"List2 -> \", list2)\n",
    "print(\"id of list1 -> \", id(list1))\n",
    "print(\"id of list2 -> \", id(list2))\n",
    "\n",
    "list1.append([10,11,12])\n",
    "print(\"list 1 -> \", list1)\n",
    "print(\"list 2 -> \", list2)"
   ]
  },
  {
   "cell_type": "code",
   "execution_count": 3,
   "metadata": {},
   "outputs": [
    {
     "name": "stdout",
     "output_type": "stream",
     "text": [
      "Old list: [[1, 2, 3], [4, 5, 6], [7, 8, 9]]\n",
      "New list: [[1, 2, 3], [4, 5, 6], [7, 8, 9]]\n"
     ]
    }
   ],
   "source": [
    "#Creating a copy using shallow Copy\n",
    "import copy\n",
    "old_list = [[1,2,3],[4,5,6],[7,8,9]]\n",
    "new_list = copy.copy(old_list)\n",
    "\n",
    "print(\"Old list:\", old_list)\n",
    "print(\"New list:\", new_list)"
   ]
  },
  {
   "cell_type": "code",
   "execution_count": 5,
   "metadata": {},
   "outputs": [
    {
     "name": "stdout",
     "output_type": "stream",
     "text": [
      "Old list: [[1, 2, 3], [4, 'AA', 6], [7, 8, 9], [4, 4, 4], [4, 4, 4]]\n",
      "New list: [[1, 2, 3], [4, 'AA', 6], [7, 8, 9]]\n",
      "Old list: [[1, 2, 3], [4, 'AA', 6], [7, 8, 9], [4, 4, 4], [4, 4, 4]]\n",
      "New LIst: [[1, 2, 3], [4, 'AA', 6], [7, 8, 9]]\n"
     ]
    }
   ],
   "source": [
    "#Adding elements to the old_list using shallow copy\n",
    "old_list.append([4,4,4])\n",
    "print(\"Old list:\", old_list)\n",
    "print(\"New list:\", new_list)\n",
    "\n",
    "#Adding new nested object using shallow copy\n",
    "old_list[1][1] = 'AA'\n",
    "\n",
    "print(\"Old list:\", old_list)\n",
    "print(\"New LIst:\", new_list)"
   ]
  },
  {
   "cell_type": "code",
   "execution_count": 6,
   "metadata": {},
   "outputs": [
    {
     "name": "stdout",
     "output_type": "stream",
     "text": [
      "Old list:  [[1, 2, 3], [4, 5, 6], [7, 8, 9]]\n",
      "New list: [[1, 2, 3], [4, 5, 6], [7, 8, 9]]\n",
      "Id of old_list ->  1893983328328\n",
      "Id of new_list ->  1893987089416\n"
     ]
    }
   ],
   "source": [
    "#Copying a list using deepcopy()\n",
    "import copy\n",
    "old_list = [[1,2,3],[4,5,6],[7,8,9]]\n",
    "new_list = copy.deepcopy(old_list)\n",
    "\n",
    "print(\"Old list: \", old_list)\n",
    "print(\"New list:\" , new_list)\n",
    "print(\"Id of old_list -> \", id(old_list))\n",
    "print(\"Id of new_list -> \", id(new_list))"
   ]
  },
  {
   "cell_type": "code",
   "execution_count": null,
   "metadata": {},
   "outputs": [],
   "source": [
    "#Adding a new nested objec in the list using Deep copy\n",
    "old_list[1][0] = 'BB'\n",
    "print(\"list 1 -> \", list1)\n",
    "print(\"list 2 -> \", list2)"
   ]
  }
 ],
 "metadata": {
  "kernelspec": {
   "display_name": "Python 3",
   "language": "python",
   "name": "python3"
  },
  "language_info": {
   "codemirror_mode": {
    "name": "ipython",
    "version": 3
   },
   "file_extension": ".py",
   "mimetype": "text/x-python",
   "name": "python",
   "nbconvert_exporter": "python",
   "pygments_lexer": "ipython3",
   "version": "3.7.9"
  }
 },
 "nbformat": 4,
 "nbformat_minor": 4
}
