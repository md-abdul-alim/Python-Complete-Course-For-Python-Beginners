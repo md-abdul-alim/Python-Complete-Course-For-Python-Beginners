{
 "cells": [
  {
   "cell_type": "code",
   "execution_count": 8,
   "metadata": {},
   "outputs": [
    {
     "name": "stdout",
     "output_type": "stream",
     "text": [
      "This is printed first\n",
      "This is printed second\n",
      "This is printed at last\n",
      "Using for loop...\n",
      "This is printed first\n",
      "1\n",
      "This is printed second\n",
      "2\n",
      "This is printed at last\n",
      "3\n"
     ]
    }
   ],
   "source": [
    "#A simple generator function\n",
    "# return statement terminate hole function at a time.but yeild statement pause the statement and continute for next execution\n",
    "def my_generator():\n",
    "    n=1\n",
    "    print(\"This is printed first\")\n",
    "    #Generator function contains yield statements\n",
    "    yield n\n",
    "    \n",
    "    n +=1 #n=2\n",
    "    print(\"This is printed second\")\n",
    "    yield n\n",
    "    \n",
    "    n +=1 #n=3\n",
    "    print(\"This is printed at last\")\n",
    "    yield n\n",
    "    \n",
    "a = my_generator()\n",
    "#Iterrating using next\n",
    "next(a)\n",
    "next(a)\n",
    "next(a)\n",
    "\n",
    "print(\"Using for loop...\")\n",
    "#Iterrating using for loop\n",
    "for item in my_generator():\n",
    "    print(item)"
   ]
  },
  {
   "cell_type": "code",
   "execution_count": 12,
   "metadata": {},
   "outputs": [
    {
     "name": "stdout",
     "output_type": "stream",
     "text": [
      "D\n",
      "L\n",
      "R\n",
      "O\n",
      "W\n"
     ]
    }
   ],
   "source": [
    "#Generators with a loop\n",
    "def reverse_string(my_string):\n",
    "    length = len(my_string)\n",
    "    for i in range(length-1,-1,-1):\n",
    "        yield my_string[i]\n",
    "#for loop to reverse the string\n",
    "for char in reverse_string(\"WORLD\"):\n",
    "    print(char)"
   ]
  },
  {
   "cell_type": "code",
   "execution_count": null,
   "metadata": {},
   "outputs": [],
   "source": []
  }
 ],
 "metadata": {
  "kernelspec": {
   "display_name": "Python 3",
   "language": "python",
   "name": "python3"
  },
  "language_info": {
   "codemirror_mode": {
    "name": "ipython",
    "version": 3
   },
   "file_extension": ".py",
   "mimetype": "text/x-python",
   "name": "python",
   "nbconvert_exporter": "python",
   "pygments_lexer": "ipython3",
   "version": "3.7.9"
  }
 },
 "nbformat": 4,
 "nbformat_minor": 4
}
