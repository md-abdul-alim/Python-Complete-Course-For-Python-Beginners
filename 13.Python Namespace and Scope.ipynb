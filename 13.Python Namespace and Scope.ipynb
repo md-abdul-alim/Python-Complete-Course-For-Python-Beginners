{
 "cells": [
  {
   "cell_type": "code",
   "execution_count": 1,
   "metadata": {},
   "outputs": [
    {
     "name": "stdout",
     "output_type": "stream",
     "text": [
      "id(2) =  140735719907760\n",
      "id(a) =  140735719907760\n",
      "id(a) =  140735719907760\n",
      "id(a) =  140735719907792\n",
      "id(3) =  140735719907792\n",
      "id(b) =  140735719907760\n",
      "id(2) =  140735719907760\n"
     ]
    }
   ],
   "source": [
    "#Name (also called identifier) is simply a name given to objects\n",
    "#We can get the address (in RAM) of some object through the built-in function, id().\n",
    "#Note: you may get different value of id\n",
    "\n",
    "a = 2 \n",
    "print(\"id(2) = \", id(2))\n",
    "print(\"id(a) = \", id(a))\n",
    "a = 2\n",
    "print(\"id(a) = \", id(a))\n",
    "a = a+1\n",
    "print(\"id(a) = \", id(a))\n",
    "print(\"id(3) = \", id(3))\n",
    "b=2\n",
    "\n",
    "print(\"id(b) = \", id(b))\n",
    "print(\"id(2) = \", id(2))"
   ]
  },
  {
   "cell_type": "code",
   "execution_count": 2,
   "metadata": {},
   "outputs": [
    {
     "name": "stdout",
     "output_type": "stream",
     "text": [
      "a = 10\n",
      "a = 30\n",
      "a = 30\n",
      "a = 30\n"
     ]
    }
   ],
   "source": [
    "#Scope\n",
    "def outer_function():\n",
    "    global a\n",
    "    a = 20\n",
    "    def inner_function():\n",
    "        global a\n",
    "        a = 30\n",
    "        print('a =', a)\n",
    "    inner_function()\n",
    "    print('a =', a)\n",
    "a = 10\n",
    "print('a =',a)\n",
    "outer_function()\n",
    "print('a =',a)"
   ]
  },
  {
   "cell_type": "code",
   "execution_count": null,
   "metadata": {},
   "outputs": [],
   "source": []
  }
 ],
 "metadata": {
  "kernelspec": {
   "display_name": "Python 3",
   "language": "python",
   "name": "python3"
  },
  "language_info": {
   "codemirror_mode": {
    "name": "ipython",
    "version": 3
   },
   "file_extension": ".py",
   "mimetype": "text/x-python",
   "name": "python",
   "nbconvert_exporter": "python",
   "pygments_lexer": "ipython3",
   "version": "3.7.9"
  }
 },
 "nbformat": 4,
 "nbformat_minor": 4
}
