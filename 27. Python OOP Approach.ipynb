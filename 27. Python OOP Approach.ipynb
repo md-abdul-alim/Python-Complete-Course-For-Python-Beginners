{
 "cells": [
  {
   "cell_type": "code",
   "execution_count": 4,
   "metadata": {},
   "outputs": [],
   "source": [
    "#Creating class and object in python\n",
    "class myBird:\n",
    "    def __init__(self): # _ means this is private. __ double under score mean this is strickly private\n",
    "        print(\"myBird class constructor is executing...\")\n",
    "    def whatType(self):\n",
    "        print(\"I am a Bird.\")\n",
    "    def canSwim(self):\n",
    "        print(\"I can Swim.\")"
   ]
  },
  {
   "cell_type": "code",
   "execution_count": 14,
   "metadata": {},
   "outputs": [],
   "source": [
    "class myParrot:\n",
    "    #class attribute\n",
    "    species = \"bird\"\n",
    "    \n",
    "    # instance attribute\n",
    "    def __init__(self, name, age):\n",
    "        print(\"myParrot class constructor is executing...\")\n",
    "        self.name = name\n",
    "        self.age = age\n",
    "    def canSing(self, thisSong):\n",
    "        return \"{} can sing {}...\".format(self.name,thisSong)"
   ]
  },
  {
   "cell_type": "code",
   "execution_count": 19,
   "metadata": {},
   "outputs": [],
   "source": [
    "# myParrot class inheriting the attributes from the myBird class\n",
    "class myPenguin(myBird):\n",
    "    def __init__(self):\n",
    "        #call super() function\n",
    "        super().__init__() #call super class constructor\n",
    "        print(\"Penguin class constructor is executing...\")\n",
    "    def whoisThis(self):\n",
    "        print(\"I am Penguin\")\n",
    "    def canRun(self):\n",
    "        print(\"I can run faster\")"
   ]
  },
  {
   "cell_type": "code",
   "execution_count": 20,
   "metadata": {},
   "outputs": [
    {
     "name": "stdout",
     "output_type": "stream",
     "text": [
      "myParrot class constructor is executing...\n",
      "myParrot class constructor is executing...\n",
      "MP1 is a bird\n",
      "MP2 is also a bird\n",
      "MyParrot1 is 10 years of age\n",
      "MyParrot2 is 15 years of age\n",
      "MyParrot1 can sing Chirp...\n",
      "myBird class constructor is executing...\n",
      "Penguin class constructor is executing...\n",
      "I am Penguin\n",
      "I can Swim.\n",
      "I am a Bird.\n",
      "I can run faster\n"
     ]
    }
   ],
   "source": [
    "# instantiate the parrot class\n",
    "mp1 = myParrot(\"MyParrot1\", 10) #sending value to constructor\n",
    "mp2 = myParrot(\"MyParrot2\", 15) #sending value to constructor\n",
    "\n",
    "#access the class attributes\n",
    "print(\"MP1 is a {}\".format(mp1.__class__.species))\n",
    "print(\"MP2 is also a {}\".format(mp2.__class__.species))\n",
    "\n",
    "#access the instance attributes\n",
    "print(\"{} is {} years of age\".format(mp1.name, mp1.age))\n",
    "print(\"{} is {} years of age\".format(mp2.name, mp2.age))\n",
    "print(mp1.canSing(\"Chirp\"))\n",
    "\n",
    "#Accessing the child class's attributes(Inheritance)\n",
    "pg1 = myPenguin()\n",
    "pg1.whoisThis()\n",
    "pg1.canSwim() #myPenguin inherite myBird\n",
    "pg1.whatType() #myPenguin inherite myBird\n",
    "pg1.canRun()"
   ]
  },
  {
   "cell_type": "code",
   "execution_count": 23,
   "metadata": {},
   "outputs": [
    {
     "name": "stdout",
     "output_type": "stream",
     "text": [
      "constructor calling...\n",
      "Selling Price: 2000\n",
      "Selling Price: 30000\n",
      "Selling Price: 40000\n"
     ]
    }
   ],
   "source": [
    "#Data Encapsulation\n",
    "class personalComputer:\n",
    "    def __init__(self):\n",
    "        print(\"constructor calling...\")\n",
    "        self.maxComputerPrice = 2000\n",
    "        \n",
    "    def mySell(self):\n",
    "        print(\"Selling Price: {}\".format(self.maxComputerPrice))\n",
    "    \n",
    "    def setMaxComputerPrice(self,price):\n",
    "        self.maxComputerPrice = price\n",
    "\n",
    "pc = personalComputer()\n",
    "pc.mySell()\n",
    "\n",
    "#Change the price\n",
    "pc.maxComputerPrice = 30000\n",
    "pc.mySell()\n",
    "\n",
    "#using setter function\n",
    "pc.setMaxComputerPrice(40000)\n",
    "pc.mySell()"
   ]
  },
  {
   "cell_type": "code",
   "execution_count": null,
   "metadata": {},
   "outputs": [],
   "source": []
  }
 ],
 "metadata": {
  "kernelspec": {
   "display_name": "Python 3",
   "language": "python",
   "name": "python3"
  },
  "language_info": {
   "codemirror_mode": {
    "name": "ipython",
    "version": 3
   },
   "file_extension": ".py",
   "mimetype": "text/x-python",
   "name": "python",
   "nbconvert_exporter": "python",
   "pygments_lexer": "ipython3",
   "version": "3.7.9"
  }
 },
 "nbformat": 4,
 "nbformat_minor": 4
}
