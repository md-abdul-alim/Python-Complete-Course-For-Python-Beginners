{
 "cells": [
  {
   "cell_type": "code",
   "execution_count": 4,
   "metadata": {},
   "outputs": [
    {
     "name": "stdout",
     "output_type": "stream",
     "text": [
      "Please enter the age of the person...15\n",
      "Go to 10 grade.\n"
     ]
    }
   ],
   "source": [
    "age = int(input(\"Please enter the age of the person...\"))\n",
    "if age < 5:\n",
    "    print(\"Too young\")\n",
    "elif age == 5:\n",
    "    print(\"Kinder Garten\")\n",
    "elif ((age >5) and (age <=17)):\n",
    "    grade = age - 5\n",
    "    print(\"Go to {} grade.\".format(grade))\n",
    "else:\n",
    "    print(\"Go to college\")"
   ]
  },
  {
   "cell_type": "code",
   "execution_count": 5,
   "metadata": {},
   "outputs": [
    {
     "ename": "SyntaxError",
     "evalue": "unexpected EOF while parsing (<ipython-input-5-11b7eb0a3fb9>, line 3)",
     "output_type": "error",
     "traceback": [
      "\u001b[1;36m  File \u001b[1;32m\"<ipython-input-5-11b7eb0a3fb9>\"\u001b[1;36m, line \u001b[1;32m3\u001b[0m\n\u001b[1;33m    if num ==0:\u001b[0m\n\u001b[1;37m               ^\u001b[0m\n\u001b[1;31mSyntaxError\u001b[0m\u001b[1;31m:\u001b[0m unexpected EOF while parsing\n"
     ]
    }
   ],
   "source": [
    "num = float(input(\"Enter a number: \"))\n",
    "if num >=0:\n",
    "    if num ==0:\n",
    "        print(\"Zero\")\n",
    "    "
   ]
  },
  {
   "cell_type": "code",
   "execution_count": null,
   "metadata": {},
   "outputs": [],
   "source": []
  }
 ],
 "metadata": {
  "kernelspec": {
   "display_name": "Python 3",
   "language": "python",
   "name": "python3"
  },
  "language_info": {
   "codemirror_mode": {
    "name": "ipython",
    "version": 3
   },
   "file_extension": ".py",
   "mimetype": "text/x-python",
   "name": "python",
   "nbconvert_exporter": "python",
   "pygments_lexer": "ipython3",
   "version": "3.7.9"
  }
 },
 "nbformat": 4,
 "nbformat_minor": 4
}
