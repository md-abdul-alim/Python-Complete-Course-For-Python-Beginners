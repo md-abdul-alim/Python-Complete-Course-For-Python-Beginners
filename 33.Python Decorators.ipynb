{
 "cells": [
  {
   "cell_type": "code",
   "execution_count": 2,
   "metadata": {},
   "outputs": [
    {
     "name": "stdout",
     "output_type": "stream",
     "text": [
      "I got decorated\n",
      "I am a simple function\n"
     ]
    }
   ],
   "source": [
    "#Demonstration\n",
    "def make_decorated(func):\n",
    "    def inner_function():\n",
    "        print(\"I got decorated\")\n",
    "        func()\n",
    "    return inner_function\n",
    "\n",
    "def simple_func():\n",
    "    print(\"I am a simple function\")\n",
    "\n",
    "decor = make_decorated(simple_func)\n",
    "decor()"
   ]
  },
  {
   "cell_type": "code",
   "execution_count": 3,
   "metadata": {},
   "outputs": [
    {
     "name": "stdout",
     "output_type": "stream",
     "text": [
      "I got decorated\n",
      "I am a simple function\n"
     ]
    }
   ],
   "source": [
    "#Using decorator\n",
    "def make_decorated(func):\n",
    "    def inner_function():\n",
    "        print(\"I got decorated\")\n",
    "        func()\n",
    "    return inner_function\n",
    "@make_decorated\n",
    "def simple_func():\n",
    "    print(\"I am a simple function\")\n",
    "\n",
    "simple_func()"
   ]
  },
  {
   "cell_type": "code",
   "execution_count": 7,
   "metadata": {},
   "outputs": [
    {
     "name": "stdout",
     "output_type": "stream",
     "text": [
      "I am dividing  20  and  2\n",
      "10.0\n",
      "I am dividing  20  and  0\n",
      "Oops! Division by ZERO is illegal...!!!\n",
      "None\n"
     ]
    }
   ],
   "source": [
    "#Another example\n",
    "def my_smart_div(func):\n",
    "    def inner_func(x,y):\n",
    "        print(\"I am dividing \",x,\" and \",y)\n",
    "        if y==0:\n",
    "            print(\"Oops! Division by ZERO is illegal...!!!\")\n",
    "            return\n",
    "        return func(x,y)\n",
    "    return inner_func\n",
    "\n",
    "@my_smart_div\n",
    "def go_divide(a,b): #Generally, we decorate a funtion and reassign it as, go_divide = my_smart_div(go_divide)\n",
    "    return a/b\n",
    "\n",
    "print(go_divide(20,2))\n",
    "print(go_divide(20,0))"
   ]
  },
  {
   "cell_type": "code",
   "execution_count": null,
   "metadata": {},
   "outputs": [],
   "source": []
  }
 ],
 "metadata": {
  "kernelspec": {
   "display_name": "Python 3",
   "language": "python",
   "name": "python3"
  },
  "language_info": {
   "codemirror_mode": {
    "name": "ipython",
    "version": 3
   },
   "file_extension": ".py",
   "mimetype": "text/x-python",
   "name": "python",
   "nbconvert_exporter": "python",
   "pygments_lexer": "ipython3",
   "version": "3.7.9"
  }
 },
 "nbformat": 4,
 "nbformat_minor": 4
}
