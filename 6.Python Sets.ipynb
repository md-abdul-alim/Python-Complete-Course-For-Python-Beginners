{
 "cells": [
  {
   "cell_type": "code",
   "execution_count": 1,
   "metadata": {},
   "outputs": [],
   "source": [
    "#python sets : unordered collection of unique items.No duplicate elements.must be immutable(can not be changed)\n",
    "#but set itself is mutable.we can add or remove items from it\n",
    "#Sets can be used to perform mathematical set operations like union, intersection, symmetric difference etc"
   ]
  },
  {
   "cell_type": "code",
   "execution_count": 4,
   "metadata": {},
   "outputs": [
    {
     "name": "stdout",
     "output_type": "stream",
     "text": [
      "{33, 11, 44, 22, 55}\n",
      "{'s', 11, (2, 3, 4)}\n",
      "{3, 4, 5, 6}\n"
     ]
    }
   ],
   "source": [
    "#createing sets\n",
    "#set of integers\n",
    "s1={11,22,33,44,55}\n",
    "print(s1)\n",
    "#set of mixed datatypes\n",
    "s2={11,'s',(2,3,4)}\n",
    "print(s2)\n",
    "#duplicate values are not allowed.duplicate values will be convert to a single value\n",
    "s3={3,4,4,5,6,}\n",
    "print(s3)"
   ]
  },
  {
   "cell_type": "code",
   "execution_count": 7,
   "metadata": {},
   "outputs": [
    {
     "name": "stdout",
     "output_type": "stream",
     "text": [
      "{1, 2, 3}\n",
      "<class 'set'>\n",
      "[33, 11, 44, 22]\n",
      "<class 'list'>\n"
     ]
    }
   ],
   "source": [
    "#set cannot have mutable items\n",
    "#s4={1,2,{3,4}} #error\n",
    "#we can make set from a list\n",
    "s5 = set([1,2,3,3])\n",
    "print(s5)\n",
    "print(type(s5))\n",
    "#we can make list from a set\n",
    "s6=list({11,22,33,44})\n",
    "print(s6)\n",
    "print(type(s6))"
   ]
  },
  {
   "cell_type": "code",
   "execution_count": 12,
   "metadata": {},
   "outputs": [
    {
     "name": "stdout",
     "output_type": "stream",
     "text": [
      "{33, 11, 44, 22, 55}\n",
      "{33, 66, 11, 44, 22, 55}\n",
      "{33, 66, 99, 11, 44, 77, 22, 55, 88}\n",
      "{33, 66, 99, 100, 200, 11, 44, 77, 300, 400, 500, 22, 55, 88}\n"
     ]
    }
   ],
   "source": [
    "#operations on sets\n",
    "s7={11,22,33,44,55}\n",
    "print(s7)\n",
    "#set object does not support indexing\n",
    "#s7[0] #error\n",
    "#add on element\n",
    "s7.add(66)\n",
    "print(s7)\n",
    "\n",
    "#add multiple elements\n",
    "s7.update([88,99,77])\n",
    "print(s7)\n",
    "#add list and set\n",
    "s7.update([100,200],{300,400,500})\n",
    "print(s7)"
   ]
  },
  {
   "cell_type": "code",
   "execution_count": 15,
   "metadata": {},
   "outputs": [
    {
     "name": "stdout",
     "output_type": "stream",
     "text": [
      "{33, 11, 44, 22, 55}\n",
      "{33, 11, 44, 22, 55}\n",
      "{33, 11, 44, 22, 55}\n",
      "{33, 11, 22, 55}\n",
      "{33, 11, 22}\n"
     ]
    }
   ],
   "source": [
    "#remove and discord\n",
    "#initialize set\n",
    "s8={11,22,33,44,55}\n",
    "print(s8)\n",
    "#discord an element which is not present, no error\n",
    "s8.discard(4)\n",
    "print(s8)\n",
    "#remove an element which is not present error raised\n",
    "#s8.remove(3)\n",
    "print(s8)\n",
    "#discard an element\n",
    "s8.discard(44)\n",
    "print(s8)\n",
    "s8.remove(55)\n",
    "print(s8)"
   ]
  },
  {
   "cell_type": "code",
   "execution_count": 16,
   "metadata": {},
   "outputs": [
    {
     "name": "stdout",
     "output_type": "stream",
     "text": [
      "{33, 66, 11, 44, 22, 55}\n",
      "33\n",
      "66\n",
      "{11, 44, 22, 55}\n",
      "set()\n"
     ]
    }
   ],
   "source": [
    "#using pop()\n",
    "#initialize s8\n",
    "s9={11,22,33,44,55,66}\n",
    "print(s9)\n",
    "#pop an element\n",
    "print(s9.pop())\n",
    "#pop another element\n",
    "print(s9.pop())\n",
    "print(s9)\n",
    "#clear s9\n",
    "s9.clear()\n",
    "print(s9)"
   ]
  },
  {
   "cell_type": "code",
   "execution_count": 18,
   "metadata": {},
   "outputs": [
    {
     "name": "stdout",
     "output_type": "stream",
     "text": [
      "{0, 1, 2, 3, 4, 5}\n",
      "{4, 5, 6, 7, 8}\n",
      "{0, 1, 2, 3, 4, 5, 6, 7, 8}\n",
      "{0, 1, 2, 3, 4, 5, 6, 7, 8}\n",
      "{0, 1, 2, 3, 4, 5, 6, 7, 8}\n",
      "{0, 1, 2, 3, 4, 5, 6, 7, 8}\n"
     ]
    }
   ],
   "source": [
    "#set operations union\n",
    "s10={0,1,2,3,4,5}\n",
    "s11={4,5,6,7,7,8}\n",
    "print(s10)\n",
    "print(s11)\n",
    "\n",
    "#user  | operator for union\n",
    "print(s10 | s11)\n",
    "print(s11 | s10)\n",
    "print(s10.union(s11))\n",
    "print(s11.union(s10))"
   ]
  },
  {
   "cell_type": "code",
   "execution_count": 19,
   "metadata": {},
   "outputs": [
    {
     "name": "stdout",
     "output_type": "stream",
     "text": [
      "{0, 1, 3, 4, 5, 12}\n",
      "{4, 5, 6, 7, 8}\n",
      "{4, 5}\n",
      "{4, 5}\n",
      "{4, 5}\n",
      "{4, 5}\n"
     ]
    }
   ],
   "source": [
    "#set operation - intersection\n",
    "s10={0,1,12,3,3,4,5}\n",
    "s11={4,5,6,7,7,8}\n",
    "print(s10)\n",
    "print(s11)\n",
    "# Use & operator for initersection\n",
    "print(s10 & s11)\n",
    "print(s11 & s10)\n",
    "print(s10.intersection(s11))\n",
    "print(s11.intersection(s10))"
   ]
  },
  {
   "cell_type": "code",
   "execution_count": 20,
   "metadata": {},
   "outputs": [
    {
     "name": "stdout",
     "output_type": "stream",
     "text": [
      "{0, 1, 3, 4, 5, 12}\n",
      "{4, 5, 6, 7, 8}\n",
      "{0, 1, 3, 12}\n",
      "{8, 6, 7}\n",
      "{0, 1, 3, 12}\n",
      "{8, 6, 7}\n"
     ]
    }
   ],
   "source": [
    "#set operations - difference\n",
    "s10={0,1,12,3,3,4,5}\n",
    "s11={4,5,6,7,7,8}\n",
    "print(s10)\n",
    "print(s11)\n",
    "# Use & operator for difference\n",
    "print(s10 - s11)\n",
    "print(s11 - s10)\n",
    "print(s10.difference(s11))\n",
    "print(s11.difference(s10))"
   ]
  },
  {
   "cell_type": "code",
   "execution_count": 22,
   "metadata": {},
   "outputs": [
    {
     "name": "stdout",
     "output_type": "stream",
     "text": [
      "{0, 1, 3, 4, 5, 12}\n",
      "{4, 5, 6, 7, 8}\n",
      "{0, 1, 3, 6, 7, 8, 12}\n",
      "{0, 1, 3, 6, 7, 8, 12}\n",
      "{0, 1, 3, 12}\n",
      "{8, 6, 7}\n"
     ]
    }
   ],
   "source": [
    "#set operations ^ symmetric difference\n",
    "s10={0,1,12,3,3,4,5}\n",
    "s11={4,5,6,7,7,8}\n",
    "print(s10)\n",
    "print(s11)\n",
    "# Use & operator for ^ symmetric difference (common elements will be no include)\n",
    "print(s10 ^ s11)\n",
    "print(s11 ^ s10)\n",
    "print(s10.difference(s11))\n",
    "print(s11.difference(s10))"
   ]
  },
  {
   "cell_type": "code",
   "execution_count": 24,
   "metadata": {},
   "outputs": [
    {
     "name": "stdout",
     "output_type": "stream",
     "text": [
      "True\n",
      "False\n",
      "False\n",
      "False\n"
     ]
    }
   ],
   "source": [
    "#set membership\n",
    "s10={0,1,12,3,3,4,5}\n",
    "print(3 in s10)\n",
    "print(7 in s10)\n",
    "print(3 not in s10)\n",
    "print(5 not in s10)"
   ]
  },
  {
   "cell_type": "code",
   "execution_count": 26,
   "metadata": {},
   "outputs": [
    {
     "name": "stdout",
     "output_type": "stream",
     "text": [
      "o\n",
      "w\n",
      "c\n",
      "e\n",
      "m\n",
      "l\n"
     ]
    }
   ],
   "source": [
    "#iterating through a set\n",
    "for letter in set(\"welcome\"):\n",
    "    print(letter)"
   ]
  },
  {
   "cell_type": "code",
   "execution_count": 28,
   "metadata": {},
   "outputs": [
    {
     "name": "stdout",
     "output_type": "stream",
     "text": [
      "6\n",
      "5\n",
      "0\n",
      "[0, 1, 2, 3, 4, 5]\n"
     ]
    }
   ],
   "source": [
    "# build-in function with set\n",
    "s10={0,1,2,3,3,4,5}\n",
    "print(len(s10))\n",
    "print(max(s10))\n",
    "print(min(s10))\n",
    "print(sorted(s10))"
   ]
  },
  {
   "cell_type": "code",
   "execution_count": 31,
   "metadata": {},
   "outputs": [
    {
     "name": "stdout",
     "output_type": "stream",
     "text": [
      "frozenset({1, 2, 3, 4})\n",
      "frozenset({3, 4, 5, 6})\n",
      "frozenset({1, 2})\n",
      "frozenset({1, 2, 3, 4, 5, 6})\n",
      "frozenset({3, 4})\n",
      "frozenset({1, 2, 5, 6})\n"
     ]
    }
   ],
   "source": [
    "#python frozenset\n",
    "#frozenset is a new class that has the characteristics\n",
    "# of a set, but its elements cannot be changed once assigned.\n",
    "#while tuples are immutable ilsts, frozensets are immutable sets.\n",
    "#initialize A and B\n",
    "s12=frozenset([1,2,3,4])\n",
    "s13=frozenset([3,4,5,6])\n",
    "print(s12)\n",
    "print(s13)\n",
    "print(s12.difference(s13))\n",
    "print(s12.union(s13))\n",
    "print(s12.intersection(s13)) #showing common value\n",
    "print(s12.symmetric_difference(s13)) #showing uncommon value"
   ]
  },
  {
   "cell_type": "code",
   "execution_count": 32,
   "metadata": {},
   "outputs": [
    {
     "ename": "AttributeError",
     "evalue": "'frozenset' object has no attribute 'add'",
     "output_type": "error",
     "traceback": [
      "\u001b[1;31m---------------------------------------------------------------------------\u001b[0m",
      "\u001b[1;31mAttributeError\u001b[0m                            Traceback (most recent call last)",
      "\u001b[1;32m<ipython-input-32-25d5465eceff>\u001b[0m in \u001b[0;36m<module>\u001b[1;34m\u001b[0m\n\u001b[1;32m----> 1\u001b[1;33m \u001b[0ms12\u001b[0m\u001b[1;33m.\u001b[0m\u001b[0madd\u001b[0m\u001b[1;33m(\u001b[0m\u001b[1;36m10\u001b[0m\u001b[1;33m)\u001b[0m\u001b[1;33m\u001b[0m\u001b[1;33m\u001b[0m\u001b[0m\n\u001b[0m",
      "\u001b[1;31mAttributeError\u001b[0m: 'frozenset' object has no attribute 'add'"
     ]
    }
   ],
   "source": [
    "s12.add(10)"
   ]
  },
  {
   "cell_type": "code",
   "execution_count": null,
   "metadata": {},
   "outputs": [],
   "source": []
  }
 ],
 "metadata": {
  "kernelspec": {
   "display_name": "Python 3",
   "language": "python",
   "name": "python3"
  },
  "language_info": {
   "codemirror_mode": {
    "name": "ipython",
    "version": 3
   },
   "file_extension": ".py",
   "mimetype": "text/x-python",
   "name": "python",
   "nbconvert_exporter": "python",
   "pygments_lexer": "ipython3",
   "version": "3.8.5"
  }
 },
 "nbformat": 4,
 "nbformat_minor": 4
}
