{
 "cells": [
  {
   "cell_type": "code",
   "execution_count": 4,
   "metadata": {},
   "outputs": [
    {
     "name": "stdout",
     "output_type": "stream",
     "text": [
      "<class 'int'>\n",
      "True\n",
      "False\n",
      "False\n"
     ]
    }
   ],
   "source": [
    "value1 = 33\n",
    "print(type(value1))\n",
    "print(isinstance(value1,int))\n",
    "print(isinstance(value1,float))\n",
    "print(isinstance(value1,complex))"
   ]
  },
  {
   "cell_type": "code",
   "execution_count": 5,
   "metadata": {},
   "outputs": [
    {
     "name": "stdout",
     "output_type": "stream",
     "text": [
      "<class 'float'>\n",
      "False\n",
      "True\n",
      "False\n"
     ]
    }
   ],
   "source": [
    "value2 = 66.44\n",
    "print(type(value2))\n",
    "print(isinstance(value2,int))\n",
    "print(isinstance(value2,float))\n",
    "print(isinstance(value2,complex))"
   ]
  },
  {
   "cell_type": "code",
   "execution_count": 6,
   "metadata": {},
   "outputs": [
    {
     "name": "stdout",
     "output_type": "stream",
     "text": [
      "<class 'complex'>\n",
      "False\n",
      "False\n",
      "True\n"
     ]
    }
   ],
   "source": [
    "value3 =  99 + 33j\n",
    "print(type(value3))\n",
    "print(isinstance(value3,int))\n",
    "print(isinstance(value3,float))\n",
    "print(isinstance(value3,complex))"
   ]
  },
  {
   "cell_type": "code",
   "execution_count": 15,
   "metadata": {},
   "outputs": [
    {
     "name": "stdout",
     "output_type": "stream",
     "text": [
      "15\n",
      "171\n",
      "19\n"
     ]
    }
   ],
   "source": [
    "#Binary data\n",
    "print(0b1111) # 0b prefix to this number\n",
    "#Hexadecimal\n",
    "print(0xab) # e =16^1 * 10, b = 11\n",
    "#Octal\n",
    "print(0o23) # 2 * 8 ^1 + 3 * 8^0"
   ]
  },
  {
   "cell_type": "code",
   "execution_count": 13,
   "metadata": {},
   "outputs": [
    {
     "name": "stdout",
     "output_type": "stream",
     "text": [
      "55.2\n"
     ]
    }
   ],
   "source": [
    "print(23 + 32.2)"
   ]
  },
  {
   "cell_type": "code",
   "execution_count": 16,
   "metadata": {},
   "outputs": [
    {
     "name": "stdout",
     "output_type": "stream",
     "text": [
      "43\n",
      "-34\n",
      "32.0\n"
     ]
    }
   ],
   "source": [
    "#Type conversion\n",
    "print(int(43.5))\n",
    "print(int(-34.34))\n",
    "print(float(32))"
   ]
  },
  {
   "cell_type": "code",
   "execution_count": 19,
   "metadata": {},
   "outputs": [
    {
     "name": "stdout",
     "output_type": "stream",
     "text": [
      "0.30000000000000004\n",
      "3.0\n",
      "0.3\n",
      "2.88\n"
     ]
    }
   ],
   "source": [
    "#Python Decimal\n",
    "data1 = 0.1 + 0.2\n",
    "print(data1) #result will be unusual because of hardware\n",
    "data2 = 1.20 * 2.50\n",
    "print(data2)\n",
    "from decimal import Decimal as D\n",
    "print(D('0.1') + D('0.2'))\n",
    "print(D('1.2') * D('2.4'))"
   ]
  },
  {
   "cell_type": "code",
   "execution_count": 20,
   "metadata": {},
   "outputs": [
    {
     "name": "stdout",
     "output_type": "stream",
     "text": [
      "3/2\n",
      "5\n",
      "1/5\n"
     ]
    }
   ],
   "source": [
    "# python Fractions: numenatar, denumenatar\n",
    "from fractions import Fraction as F\n",
    "print(F(1.5))\n",
    "print(F(5))\n",
    "print(F(1,5))"
   ]
  },
  {
   "cell_type": "code",
   "execution_count": 24,
   "metadata": {},
   "outputs": [
    {
     "name": "stdout",
     "output_type": "stream",
     "text": [
      "3.141592653589793\n",
      "-0.8390715290764524\n",
      "2.302585092994046\n",
      "1.0\n",
      "22026.465794806718\n",
      "120\n",
      "11013.232874703393\n",
      "12.32\n"
     ]
    }
   ],
   "source": [
    "#python math module\n",
    "import math\n",
    "print(math.pi)\n",
    "print(math.cos(10))\n",
    "print(math.log(10))\n",
    "print(math.log10(10))\n",
    "print(math.exp(10))\n",
    "print(math.factorial(5))\n",
    "print(math.sinh(10))\n",
    "print(abs(-12.32))"
   ]
  },
  {
   "cell_type": "code",
   "execution_count": 27,
   "metadata": {},
   "outputs": [
    {
     "name": "stdout",
     "output_type": "stream",
     "text": [
      "Random number ->  23\n",
      "Random number ->  20\n",
      "Random number ->  27\n",
      "Random number ->  30\n",
      "sun\n",
      "['sat', 'sun', 'mon', 'tue', 'wed', 'thu', 'fri']\n",
      "['thu', 'tue', 'sat', 'wed', 'mon', 'fri', 'sun']\n",
      "0.35735405799277853\n"
     ]
    }
   ],
   "source": [
    "#python random module\n",
    "import random\n",
    "print(\"Random number -> \", random.randrange(3,32)) #first value is optional,second value is mandatory\n",
    "print(\"Random number -> \", random.randrange(3,32))\n",
    "print(\"Random number -> \", random.randrange(3,32))\n",
    "print(\"Random number -> \", random.randrange(3,32))\n",
    "\n",
    "day = ['sat','sun', 'mon', 'tue', 'wed', 'thu', 'fri']\n",
    "print(random.choice(day))\n",
    "print(day)\n",
    "random.shuffle(day)\n",
    "print(day)\n",
    "\n",
    "#print(random element)\n",
    "print(random.random())"
   ]
  },
  {
   "cell_type": "code",
   "execution_count": null,
   "metadata": {},
   "outputs": [],
   "source": []
  },
  {
   "cell_type": "code",
   "execution_count": null,
   "metadata": {},
   "outputs": [],
   "source": []
  }
 ],
 "metadata": {
  "kernelspec": {
   "display_name": "Python 3",
   "language": "python",
   "name": "python3"
  },
  "language_info": {
   "codemirror_mode": {
    "name": "ipython",
    "version": 3
   },
   "file_extension": ".py",
   "mimetype": "text/x-python",
   "name": "python",
   "nbconvert_exporter": "python",
   "pygments_lexer": "ipython3",
   "version": "3.7.9"
  }
 },
 "nbformat": 4,
 "nbformat_minor": 4
}
