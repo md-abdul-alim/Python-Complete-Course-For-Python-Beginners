{
 "cells": [
  {
   "cell_type": "code",
   "execution_count": 2,
   "metadata": {},
   "outputs": [
    {
     "name": "stdout",
     "output_type": "stream",
     "text": [
      "Main Menu: \n",
      "1 > Addition operation...\n",
      "2 > Subtraction operation...\n",
      "3 > Multiplication operation...\n",
      "4 > Division operation...\n",
      "Please enter your choice number:3\n",
      "please enter the first number:5\n",
      "please enter the second number:9\n",
      "Performing the multiplication operation.\n",
      "So result =  45\n"
     ]
    }
   ],
   "source": [
    "def myAddition(x,y):\n",
    "    print(\"Performing the addition operation.\")\n",
    "    return(x+y)\n",
    "def mySubtraction(x,y):\n",
    "    print(\"Performing the subtraction operation.\")\n",
    "    return(x-y)\n",
    "def myMultiplication(x,y):\n",
    "    print(\"Performing the multiplication operation.\")\n",
    "    return(x*y)\n",
    "def myDivision(x,y):\n",
    "    print(\"erforming teh division operation.\")\n",
    "    return(x/y)\n",
    "def myMenu():\n",
    "    print(\"Main Menu: \")\n",
    "    print(\"1 > Addition operation...\")\n",
    "    print(\"2 > Subtraction operation...\")\n",
    "    print(\"3 > Multiplication operation...\")\n",
    "    print(\"4 > Division operation...\")\n",
    "    choice = int(input(\"Please enter your choice number:\"))\n",
    "    return choice\n",
    "\n",
    "def calculation():\n",
    "    choice = myMenu()\n",
    "    num1 = int(input(\"please enter the first number:\"))\n",
    "    num2 = int(input(\"please enter the second number:\"))\n",
    "    if choice == 1:\n",
    "        result = myAddition(num1,num2)\n",
    "    elif choice == 2:\n",
    "        result = mySubtraction(num1,num2)\n",
    "    elif choice == 3:\n",
    "        result = myMultiplication(num1,num2)\n",
    "    elif choice == 4:\n",
    "        result = myDivision(num1,num2)\n",
    "    else:\n",
    "        calculation()\n",
    "    print(\"So result = \", result)\n",
    "calculation()"
   ]
  },
  {
   "cell_type": "code",
   "execution_count": null,
   "metadata": {},
   "outputs": [],
   "source": []
  },
  {
   "cell_type": "code",
   "execution_count": null,
   "metadata": {},
   "outputs": [],
   "source": []
  }
 ],
 "metadata": {
  "kernelspec": {
   "display_name": "Python 3",
   "language": "python",
   "name": "python3"
  },
  "language_info": {
   "codemirror_mode": {
    "name": "ipython",
    "version": 3
   },
   "file_extension": ".py",
   "mimetype": "text/x-python",
   "name": "python",
   "nbconvert_exporter": "python",
   "pygments_lexer": "ipython3",
   "version": "3.7.9"
  }
 },
 "nbformat": 4,
 "nbformat_minor": 4
}
