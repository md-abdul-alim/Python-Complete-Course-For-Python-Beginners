{
 "cells": [
  {
   "cell_type": "code",
   "execution_count": 15,
   "metadata": {},
   "outputs": [
    {
     "name": "stdout",
     "output_type": "stream",
     "text": [
      "C:\\Users\\aamil\\Python\\Python Complete Course For Python Beginners\n",
      "b'C:\\\\Users\\\\aamil\\\\Python\\\\Python Complete Course For Python Beginners'\n"
     ]
    }
   ],
   "source": [
    "import os\n",
    "print(os.getcwd()) #returns the present working directory\n",
    "print(os.getcwdb()) #return the present working directory as a byte object"
   ]
  },
  {
   "cell_type": "code",
   "execution_count": 16,
   "metadata": {},
   "outputs": [
    {
     "name": "stdout",
     "output_type": "stream",
     "text": [
      "['.ipynb_checkpoints', '1.Python Variables and Constants.ipynb', '10.Python Strings.ipynb', '2.Python Class and Objects.ipynb', '3.Python Array implementation.ipynb', '4.Python keywords and Identifiers.ipynb', '5.Python Tuples.ipynb', '6.Python Sets.ipynb', '7.Python Different Module.ipynb', '8.Python Directory and File Management System.ipynb', '9.Python Dictonary.ipynb', 'example.txt']\n"
     ]
    }
   ],
   "source": [
    "os.chdir('C:\\\\Users\\\\aamil\\\\Python\\\\Python Complete Course For Python Beginners')\n",
    "print(os.listdir())\n",
    "# Use to change directory\n",
    "# All files and sub directories inside a directory\n",
    "# can be known using the listdir() method"
   ]
  },
  {
   "cell_type": "code",
   "execution_count": 17,
   "metadata": {},
   "outputs": [],
   "source": [
    "#used to make a new directory\n",
    "os.mkdir(\"test\")"
   ]
  },
  {
   "cell_type": "code",
   "execution_count": 18,
   "metadata": {},
   "outputs": [],
   "source": [
    "#used to rename a directory\n",
    "os.rename(\"test\",\"newTest\")"
   ]
  },
  {
   "cell_type": "code",
   "execution_count": 19,
   "metadata": {},
   "outputs": [
    {
     "ename": "FileNotFoundError",
     "evalue": "[WinError 2] The system cannot find the file specified: 'test.txt'",
     "output_type": "error",
     "traceback": [
      "\u001b[1;31m---------------------------------------------------------------------------\u001b[0m",
      "\u001b[1;31mFileNotFoundError\u001b[0m                         Traceback (most recent call last)",
      "\u001b[1;32m<ipython-input-19-1f4c759908c2>\u001b[0m in \u001b[0;36m<module>\u001b[1;34m\u001b[0m\n\u001b[0;32m      1\u001b[0m \u001b[1;31m# removing a file and directory\u001b[0m\u001b[1;33m\u001b[0m\u001b[1;33m\u001b[0m\u001b[1;33m\u001b[0m\u001b[0m\n\u001b[0;32m      2\u001b[0m \u001b[0mos\u001b[0m\u001b[1;33m.\u001b[0m\u001b[0mrmdir\u001b[0m\u001b[1;33m(\u001b[0m\u001b[1;34m'newTest'\u001b[0m\u001b[1;33m)\u001b[0m \u001b[1;31m#use to remove a directory\u001b[0m\u001b[1;33m\u001b[0m\u001b[1;33m\u001b[0m\u001b[0m\n\u001b[1;32m----> 3\u001b[1;33m \u001b[0mos\u001b[0m\u001b[1;33m.\u001b[0m\u001b[0mremove\u001b[0m\u001b[1;33m(\u001b[0m\u001b[1;34m\"test.txt\"\u001b[0m\u001b[1;33m)\u001b[0m \u001b[1;31m#use to remove a file\u001b[0m\u001b[1;33m\u001b[0m\u001b[1;33m\u001b[0m\u001b[0m\n\u001b[0m",
      "\u001b[1;31mFileNotFoundError\u001b[0m: [WinError 2] The system cannot find the file specified: 'test.txt'"
     ]
    }
   ],
   "source": [
    "# removing a file and directory\n",
    "os.rmdir('newTest') #use to remove a directory\n",
    "os.remove(\"test.txt\") #use to remove a file"
   ]
  },
  {
   "cell_type": "code",
   "execution_count": 20,
   "metadata": {},
   "outputs": [],
   "source": [
    "os.chdir('C:\\\\Users\\\\aamil\\\\Python\\\\Python Complete Course For Python Beginners')"
   ]
  }
 ],
 "metadata": {
  "kernelspec": {
   "display_name": "Python 3",
   "language": "python",
   "name": "python3"
  },
  "language_info": {
   "codemirror_mode": {
    "name": "ipython",
    "version": 3
   },
   "file_extension": ".py",
   "mimetype": "text/x-python",
   "name": "python",
   "nbconvert_exporter": "python",
   "pygments_lexer": "ipython3",
   "version": "3.8.5"
  }
 },
 "nbformat": 4,
 "nbformat_minor": 4
}
