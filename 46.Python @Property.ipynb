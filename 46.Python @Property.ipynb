{
 "cells": [
  {
   "cell_type": "code",
   "execution_count": 8,
   "metadata": {},
   "outputs": [
    {
     "name": "stdout",
     "output_type": "stream",
     "text": [
      "Assigning temperature value\n",
      "Getting temperature value\n",
      "5\n",
      "Setting temperature value\n",
      "Getting temperature value\n",
      "-100\n",
      "{'_temperature': -100, 'temp': 500}\n",
      "-100\n",
      "500\n"
     ]
    }
   ],
   "source": [
    "#Demonstrating the use of the property\n",
    "class Temp_Celsius:\n",
    "    def __init__(self, temperature = 0):\n",
    "        print(\"Assigning temperature value\")\n",
    "        self._temperature = temperature #_(underscore) means that this variable under the private scope\n",
    "        self.temp=500\n",
    "        \n",
    "    def convert_to_fahrenheit(self):\n",
    "        return (self._temperature * 1.8) + 32\n",
    "    \n",
    "    def get_temperature(self):\n",
    "        print(\"Getting temperature value\")\n",
    "        return self._temperature\n",
    "    \n",
    "    def set_temperature(self, value):\n",
    "        if value< -273:\n",
    "            raise ValueError(\"Temperature below -273 is not possible\")\n",
    "        print(\"Setting temperature value\")\n",
    "        self._temperature = value\n",
    "        \n",
    "    #Property() is a built-in function, creates and returns a property object\n",
    "    #property(fget = None, fset=None, fdel= None, doc=None)\n",
    "    #property object has three methods, getter(), setter(), and delete()\n",
    "    #temperature = property(get_temperature, set_temperature)\n",
    "    #make empty property\n",
    "    temperature = property()\n",
    "    #assign fget\n",
    "    temperature = temperature.getter(get_temperature)\n",
    "    #assign fset\n",
    "    temperature = temperature.setter(set_temperature)\n",
    "\n",
    "c = Temp_Celsius(5)\n",
    "print(c.temperature)\n",
    "c.temperature = -100\n",
    "print(c.temperature)\n",
    "print(c.__dict__)\n",
    "print(c.__dict__[\"_temperature\"])\n",
    "print(c.__dict__[\"temp\"])"
   ]
  },
  {
   "cell_type": "code",
   "execution_count": 12,
   "metadata": {},
   "outputs": [
    {
     "name": "stdout",
     "output_type": "stream",
     "text": [
      "Getting value\n",
      "5\n",
      "Setting value\n",
      "Getting value\n",
      "-100\n",
      "{'_temperature': -100}\n",
      "-100\n"
     ]
    }
   ],
   "source": [
    "#Demonstrating the use of the property as a decorator\n",
    "class Celsius:\n",
    "    def __init__(self, temperature = 0):\n",
    "        self._temperature = temperature\n",
    "        \n",
    "    def to_fahrenheit(self):\n",
    "        return (self._temperature * 1.8) + 32\n",
    "    @property\n",
    "    def temperature(self): # by default getter method\n",
    "        print(\"Getting value\")\n",
    "        return self._temperature\n",
    "    @temperature.setter\n",
    "    def temperature(self, value):\n",
    "        if value< -273:\n",
    "            raise ValueError(\"Temperature below -273 is not possible\")\n",
    "        print(\"Setting value\")\n",
    "        self._temperature = value\n",
    "\n",
    "c = Celsius(5)\n",
    "print(c.temperature)\n",
    "c.temperature = -100\n",
    "print(c.temperature)\n",
    "print(c.__dict__)\n",
    "print(c.__dict__[\"_temperature\"])"
   ]
  }
 ],
 "metadata": {
  "kernelspec": {
   "display_name": "Python 3",
   "language": "python",
   "name": "python3"
  },
  "language_info": {
   "codemirror_mode": {
    "name": "ipython",
    "version": 3
   },
   "file_extension": ".py",
   "mimetype": "text/x-python",
   "name": "python",
   "nbconvert_exporter": "python",
   "pygments_lexer": "ipython3",
   "version": "3.7.9"
  }
 },
 "nbformat": 4,
 "nbformat_minor": 4
}
