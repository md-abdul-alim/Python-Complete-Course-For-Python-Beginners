{
 "cells": [
  {
   "cell_type": "code",
   "execution_count": 7,
   "metadata": {},
   "outputs": [
    {
     "name": "stdout",
     "output_type": "stream",
     "text": [
      "welcome\n",
      "welcome\n",
      "wecome2\n",
      "welcome3\n",
      "to the world of\n",
      "Python Programming\n"
     ]
    }
   ],
   "source": [
    "#different ways to define a string in python\n",
    "s=\"welcome\"\n",
    "print(s)\n",
    "s1=\"welcome\"\n",
    "print(s1)\n",
    "s2='''wecome2'''\n",
    "print(s2)\n",
    "\n",
    "#triple quotes string can extend multiple lines\n",
    "s3='''welcome3\n",
    "to the world of\n",
    "Python Programming'''\n",
    "print(s3)"
   ]
  },
  {
   "cell_type": "code",
   "execution_count": 13,
   "metadata": {},
   "outputs": [
    {
     "name": "stdout",
     "output_type": "stream",
     "text": [
      "stirng:  language\n",
      "string[0] =  l\n",
      "string[7] =  e\n",
      "string[-1] =  e\n",
      "string[1:5] =  angu\n",
      "string[5] =  a\n",
      "string[5:-2] =  ag\n"
     ]
    }
   ],
   "source": [
    "#accessing characters in a string\n",
    "s=\"language\"\n",
    "print('stirng: ',s)\n",
    "print('string[0] = ', s[0])\n",
    "print('string[7] = ', s[7])\n",
    "print('string[-1] = ', s[-1])\n",
    "print('string[1:5] = ', s[1:5])\n",
    "print('string[5] = ', s[5])\n",
    "print('string[5:-2] = ', s[5:-1])"
   ]
  },
  {
   "cell_type": "code",
   "execution_count": 17,
   "metadata": {},
   "outputs": [
    {
     "name": "stdout",
     "output_type": "stream",
     "text": [
      "language\n",
      "programming\n"
     ]
    }
   ],
   "source": [
    "#String are imutable\n",
    "#but different strings can be assigned\n",
    "s='language'\n",
    "print(s)\n",
    "s='programming'\n",
    "print(s)\n",
    "#s[3]='s' #ERROR because string is not mutable"
   ]
  },
  {
   "cell_type": "code",
   "execution_count": 19,
   "metadata": {},
   "outputs": [
    {
     "name": "stdout",
     "output_type": "stream",
     "text": [
      "s1+s2=  welcome to all\n",
      "s1 * 3 =  welcome welcome welcome \n"
     ]
    }
   ],
   "source": [
    "#concatenation of strings\n",
    "s1='welcome '\n",
    "s2='to all'\n",
    "#using *\n",
    "print('s1+s2= ', s1+s2)\n",
    "#using *\n",
    "print('s1 * 3 = ', s1*3)"
   ]
  },
  {
   "cell_type": "code",
   "execution_count": 22,
   "metadata": {},
   "outputs": [
    {
     "name": "stdout",
     "output_type": "stream",
     "text": [
      "3 times 1 letter has been found\n"
     ]
    }
   ],
   "source": [
    "#iterating through a string\n",
    "letter_count = 0\n",
    "for letters in \"Hello world\":\n",
    "    if(letters == 'l'):\n",
    "        letter_count +=1\n",
    "print(letter_count, 'times 1 letter has been found')"
   ]
  },
  {
   "cell_type": "code",
   "execution_count": 23,
   "metadata": {},
   "outputs": [
    {
     "name": "stdout",
     "output_type": "stream",
     "text": [
      "True\n",
      "False\n",
      "False\n",
      "True\n"
     ]
    }
   ],
   "source": [
    "#string membership\n",
    "print('l' in \"hello\")\n",
    "print('l' not in 'hello')\n",
    "print('b' in 'hello')\n",
    "print('b' not in 'hello')"
   ]
  },
  {
   "cell_type": "code",
   "execution_count": 26,
   "metadata": {},
   "outputs": [
    {
     "name": "stdout",
     "output_type": "stream",
     "text": [
      "list(enumerate(s)):  [(0, 'u'), (1, 'n'), (2, 'i'), (3, 'v'), (4, 'e'), (5, 'r'), (6, 's'), (7, 'i'), (8, 't'), (9, 'y')]\n",
      "len(s) =  10\n"
     ]
    }
   ],
   "source": [
    "#built-in functions\n",
    "s='university'\n",
    "#using enumerate()\n",
    "s_enumerate = list(enumerate(s))\n",
    "print('list(enumerate(s)): ', s_enumerate)\n",
    "#using character count\n",
    "print('len(s) = ', len(s))"
   ]
  },
  {
   "cell_type": "code",
   "execution_count": 32,
   "metadata": {},
   "outputs": [
    {
     "name": "stdout",
     "output_type": "stream",
     "text": [
      "tell me \"what's your name?\"\n",
      "tell me \"what's your name?\"\n",
      "tell me 'what's your name?'\n",
      "tell me what's your name?\n",
      "tell me \"what's your name?\"\n"
     ]
    }
   ],
   "source": [
    "#string formatting using escape sequence\n",
    "#print(\"tell me \"what's your name?\"\") #error\n",
    "#using triple quotes\n",
    "print('''tell me \"what's your name?\"''')\n",
    "#escaping single quotes\n",
    "print('tell me \"what\\'s your name?\"')\n",
    "#escaping single quotes\n",
    "print(\"tell me 'what\\'s your name?'\")\n",
    "#escaping double quotes\n",
    "print(\"tell me what's your name?\")\n",
    "#escaping double quotes\n",
    "print(\"tell me \\\"what's your name?\\\"\")"
   ]
  },
  {
   "cell_type": "code",
   "execution_count": 34,
   "metadata": {},
   "outputs": [
    {
     "name": "stdout",
     "output_type": "stream",
     "text": [
      "C:\\Users\\aamil\\Python\\Python Complete Course For Python Beginners\n",
      "this line \n",
      "character\n",
      "this line \t character\n",
      "MNO in ABC (HEX) representation\n"
     ]
    }
   ],
   "source": [
    "print('C:\\\\Users\\\\aamil\\\\Python\\\\Python Complete Course For Python Beginners')\n",
    "print('this line \\ncharacter')\n",
    "print('this line \\t character')\n",
    "print('MNO in \\x41\\x42\\x43 (HEX) representation')"
   ]
  },
  {
   "cell_type": "code",
   "execution_count": 36,
   "metadata": {},
   "outputs": [
    {
     "name": "stdout",
     "output_type": "stream",
     "text": [
      "Todayis and Sunday\n",
      "today is and sunday\n",
      "today is and sunday\n"
     ]
    }
   ],
   "source": [
    "#format() method\n",
    "#default(implicit) order\n",
    "default_order = \"{}{} and {}\".format('Today','is','Sunday')\n",
    "print(default_order)\n",
    "#order using positional argument\n",
    "positinonal_order = \"{1} {0} and {2}\".format('is','today','sunday')\n",
    "print(positinonal_order)\n",
    "#order using keyword argument\n",
    "keyword_order = \"{t} {i} and {s}\".format(i='is',t='today',s='sunday')\n",
    "print(keyword_order)"
   ]
  },
  {
   "cell_type": "code",
   "execution_count": 38,
   "metadata": {},
   "outputs": [
    {
     "name": "stdout",
     "output_type": "stream",
     "text": [
      "Required binary representation of 20 is 10100\n",
      "Exponent representation: 1.432422e+05\n",
      "one third is: 0.333\n"
     ]
    }
   ],
   "source": [
    "#formatting numbers\n",
    "print(\"Required binary representation of {0} is {0:b}\".format(20))\n",
    "#formatting floats\n",
    "print(\"Exponent representation: {0:e}\".format(143242.2342))\n",
    "#round off\n",
    "print(\"one third is: {0:.3f}\".format(1/3))"
   ]
  },
  {
   "cell_type": "code",
   "execution_count": 41,
   "metadata": {},
   "outputs": [
    {
     "name": "stdout",
     "output_type": "stream",
     "text": [
      "good morning to all\n",
      "GOOD MORNING TO ALL\n",
      "13\n",
      "-1\n",
      "gOOD moRNing tO everybody\n",
      "gOOD moRNing tO alL\n"
     ]
    }
   ],
   "source": [
    "#string methods\n",
    "print(\"gOOD moRNing tO alL\".lower())\n",
    "print(\"gOOD moRNing tO alL\".upper())\n",
    "print(\"gOOD moRNing tO alL\".find('tO'))\n",
    "print(\"gOOD moRNing tO alL\".find('to'))#-1 means unsuccessfull result\n",
    "print(\"gOOD moRNing tO alL\".replace('alL','everybody'))\n",
    "print(\"gOOD moRNing tO alL\".replace('all','everybody')) #"
   ]
  },
  {
   "cell_type": "code",
   "execution_count": null,
   "metadata": {},
   "outputs": [],
   "source": []
  }
 ],
 "metadata": {
  "kernelspec": {
   "display_name": "Python 3",
   "language": "python",
   "name": "python3"
  },
  "language_info": {
   "codemirror_mode": {
    "name": "ipython",
    "version": 3
   },
   "file_extension": ".py",
   "mimetype": "text/x-python",
   "name": "python",
   "nbconvert_exporter": "python",
   "pygments_lexer": "ipython3",
   "version": "3.8.5"
  }
 },
 "nbformat": 4,
 "nbformat_minor": 4
}
