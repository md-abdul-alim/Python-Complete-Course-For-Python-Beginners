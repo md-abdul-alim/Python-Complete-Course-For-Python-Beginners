{
 "cells": [
  {
   "cell_type": "code",
   "execution_count": 2,
   "metadata": {},
   "outputs": [
    {
     "name": "stdout",
     "output_type": "stream",
     "text": [
      "This sentence is output to the screethe value of a is 3\n",
      "1 2 3 4 5\n"
     ]
    }
   ],
   "source": [
    "#Print function and it's usage\n",
    "print(\"This sentence is output to the scree\",end=\"\")\n",
    "a=3\n",
    "print(\"the value of a is \"+str(a))\n",
    "print(1,2,3,4,5)"
   ]
  },
  {
   "cell_type": "code",
   "execution_count": 6,
   "metadata": {},
   "outputs": [
    {
     "name": "stdout",
     "output_type": "stream",
     "text": [
      "1*2*3*4\n",
      "1#2#3#4&I love bread and butter\n",
      "I love butter and bread\n"
     ]
    }
   ],
   "source": [
    "print(1,2,3,4,sep= '*')\n",
    "print(1,2,3,4, sep = '#' ,end='&')\n",
    "print(\"I love {0} and {1}\".format(\"bread\",'butter'))\n",
    "print(\"I love {1} and {0}\".format(\"bread\",'butter'))"
   ]
  },
  {
   "cell_type": "code",
   "execution_count": 7,
   "metadata": {},
   "outputs": [
    {
     "name": "stdout",
     "output_type": "stream",
     "text": [
      "Please enter any number: 5\n",
      "5\n",
      "25.0\n"
     ]
    }
   ],
   "source": [
    "x = input(\"Please enter any number: \")\n",
    "print(x)\n",
    "\n",
    "import math\n",
    "print(math.pow(int(x),2))"
   ]
  },
  {
   "cell_type": "code",
   "execution_count": null,
   "metadata": {},
   "outputs": [],
   "source": []
  }
 ],
 "metadata": {
  "kernelspec": {
   "display_name": "Python 3",
   "language": "python",
   "name": "python3"
  },
  "language_info": {
   "codemirror_mode": {
    "name": "ipython",
    "version": 3
   },
   "file_extension": ".py",
   "mimetype": "text/x-python",
   "name": "python",
   "nbconvert_exporter": "python",
   "pygments_lexer": "ipython3",
   "version": "3.7.9"
  }
 },
 "nbformat": 4,
 "nbformat_minor": 4
}
