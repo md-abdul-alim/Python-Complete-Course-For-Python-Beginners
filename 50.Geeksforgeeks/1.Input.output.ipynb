{
 "cells": [
  {
   "cell_type": "code",
   "execution_count": 1,
   "metadata": {},
   "outputs": [
    {
     "name": "stdout",
     "output_type": "stream",
     "text": [
      "Enter number: 1\n",
      "Enter name: milon\n",
      "1\n",
      "milon\n",
      "Type of number <class 'str'>\n",
      "Type of name <class 'str'>\n"
     ]
    }
   ],
   "source": [
    "num = input(\"Enter number: \")\n",
    "name= input(\"Enter name: \")\n",
    "print(num)\n",
    "print(name)\n",
    "print(\"Type of number\", type(num))\n",
    "print(\"Type of name\", type(name))"
   ]
  },
  {
   "cell_type": "code",
   "execution_count": 2,
   "metadata": {},
   "outputs": [
    {
     "name": "stdout",
     "output_type": "stream",
     "text": [
      "milon\n",
      "milon\n"
     ]
    }
   ],
   "source": [
    "input1= input()\n",
    "print(input1)"
   ]
  },
  {
   "cell_type": "markdown",
   "metadata": {},
   "source": [
    "Typecasting the input to Integer"
   ]
  },
  {
   "cell_type": "code",
   "execution_count": 3,
   "metadata": {},
   "outputs": [
    {
     "name": "stdout",
     "output_type": "stream",
     "text": [
      "1\n",
      "3\n",
      "4\n"
     ]
    }
   ],
   "source": [
    "num1 = int(input())\n",
    "num2 = int(input())\n",
    "print(num1+num2)"
   ]
  },
  {
   "cell_type": "markdown",
   "metadata": {},
   "source": [
    "Typecasting the input to Float"
   ]
  },
  {
   "cell_type": "code",
   "execution_count": 4,
   "metadata": {},
   "outputs": [
    {
     "name": "stdout",
     "output_type": "stream",
     "text": [
      "2.2\n",
      "2.2\n"
     ]
    }
   ],
   "source": [
    "num1 = float(input())\n",
    "print(num1)"
   ]
  },
  {
   "cell_type": "markdown",
   "metadata": {},
   "source": [
    "Typecasting the input to String"
   ]
  },
  {
   "cell_type": "code",
   "execution_count": 5,
   "metadata": {},
   "outputs": [
    {
     "name": "stdout",
     "output_type": "stream",
     "text": [
      "milon\n",
      "milon\n"
     ]
    }
   ],
   "source": [
    "string = str(input())\n",
    "print(string)"
   ]
  },
  {
   "cell_type": "markdown",
   "metadata": {},
   "source": [
    "# Taking multiple inputs from user in Python"
   ]
  },
  {
   "cell_type": "markdown",
   "metadata": {},
   "source": [
    "Python user can take multiple values or inputs in one line by two methods. \n",
    "\n",
    "    Using split() method\n",
    "    Using List comprehension\n",
    "\n",
    "Using split() method : \n",
    "This function helps in getting a multiple inputs from user. It breaks the given input by the specified separator. If a separator is not provided then any white space is a separator. Generally, user use a split() method to split a Python string but one can use it in taking multiple input.\n",
    "\n",
    "Syntax : \n",
    "input().split(separator, maxsplit)\n",
    "link: https://www.geeksforgeeks.org/taking-multiple-inputs-from-user-in-python/?ref=rp"
   ]
  },
  {
   "cell_type": "code",
   "execution_count": 6,
   "metadata": {},
   "outputs": [
    {
     "name": "stdout",
     "output_type": "stream",
     "text": [
      "Enter two value: 6 7\n",
      "Number of boys:  6\n",
      "Number of girls:  7\n",
      "boys are 6 and girls are 7\n"
     ]
    }
   ],
   "source": [
    "#taking two inputs at a time\n",
    "x, y = input(\"Enter two value: \").split()\n",
    "print(\"Number of boys: \", x)\n",
    "print(\"Number of girls: \", y)\n",
    "print(\"boys are {} and girls are {}\".format(x,y))"
   ]
  },
  {
   "cell_type": "code",
   "execution_count": 7,
   "metadata": {},
   "outputs": [
    {
     "name": "stdout",
     "output_type": "stream",
     "text": [
      "Enter a three value: 5 6 8\n",
      "Total number of students:  5\n",
      "Number of boys is :  6\n",
      "Number of girls is :  8\n"
     ]
    }
   ],
   "source": [
    "# taking three inputs at a time\n",
    "x, y, z = input(\"Enter a three value: \").split()\n",
    "print(\"Total number of students: \", x)\n",
    "print(\"Number of boys is : \", y)\n",
    "print(\"Number of girls is : \", z)"
   ]
  },
  {
   "cell_type": "code",
   "execution_count": 8,
   "metadata": {},
   "outputs": [
    {
     "name": "stdout",
     "output_type": "stream",
     "text": [
      "Enter a multiple value: 9 8 7 6 5\n",
      "List of students:  ['9', '8', '7', '6', '5']\n"
     ]
    }
   ],
   "source": [
    "# taking multiple inputs at a time \n",
    "# and type casting using list() function\n",
    "x =list(map(str, input(\"Enter a multiple value: \").split())) #int, float\n",
    "print(\"List of students: \",x)"
   ]
  },
  {
   "cell_type": "markdown",
   "metadata": {},
   "source": [
    "# List comprehension"
   ]
  },
  {
   "cell_type": "markdown",
   "metadata": {},
   "source": [
    "List comprehension is an elegant way to define and create list in Python. We can create lists just like mathematical statements in one line only. It is also used in getting multiple inputs from a user. "
   ]
  },
  {
   "cell_type": "code",
   "execution_count": 9,
   "metadata": {
    "scrolled": true
   },
   "outputs": [
    {
     "name": "stdout",
     "output_type": "stream",
     "text": [
      "Enter two input: 2 4\n",
      "2 4\n"
     ]
    }
   ],
   "source": [
    "# Python program showing\n",
    "# how to take multiple input\n",
    "# using List comprehension\n",
    " \n",
    "# taking two input at a time\n",
    "#step 1:\n",
    "x,y = input(\"Enter two input: \").split()\n",
    "print(x+\" \"+y)"
   ]
  },
  {
   "cell_type": "code",
   "execution_count": 10,
   "metadata": {},
   "outputs": [
    {
     "name": "stdout",
     "output_type": "stream",
     "text": [
      "Enter two value: 9 7\n",
      "First Number is:  9\n",
      "Second Number is:  7\n",
      "First number is 9 and second number is 7\n"
     ]
    }
   ],
   "source": [
    "#step 2: taking two int value in one line. multiple value eksate rakte list use korte hobe\n",
    "x, y = [int(x) for x in input(\"Enter two value: \").split()]\n",
    "print(\"First Number is: \", x)\n",
    "print(\"Second Number is: \", y)\n",
    "print(\"First number is {} and second number is {}\".format(x, y))"
   ]
  },
  {
   "cell_type": "code",
   "execution_count": 11,
   "metadata": {},
   "outputs": [
    {
     "name": "stdout",
     "output_type": "stream",
     "text": [
      "Enter multiple value: 0 9 8 7 6 5\n",
      "Number of list is:  [0, 9, 8, 7, 6, 5]\n"
     ]
    }
   ],
   "source": [
    "# taking multiple inputs at a time \n",
    "x = [int(x) for x in input(\"Enter multiple value: \").split()]\n",
    "print(\"Number of list is: \", x)"
   ]
  },
  {
   "cell_type": "markdown",
   "metadata": {},
   "source": [
    "# Python | Output using print() function"
   ]
  },
  {
   "cell_type": "markdown",
   "metadata": {},
   "source": [
    "https://www.geeksforgeeks.org/python-output-using-print-function/?ref=lbp"
   ]
  },
  {
   "cell_type": "code",
   "execution_count": 12,
   "metadata": {},
   "outputs": [
    {
     "name": "stdout",
     "output_type": "stream",
     "text": [
      "Hello MIlon**"
     ]
    }
   ],
   "source": [
    "print(\"Hello MIlon\", end=\"**\")"
   ]
  },
  {
   "cell_type": "code",
   "execution_count": 14,
   "metadata": {},
   "outputs": [
    {
     "name": "stdout",
     "output_type": "stream",
     "text": [
      "3>>>2>>>1>>>Start\n"
     ]
    }
   ],
   "source": [
    "import time\n",
    "count_seconds = 3\n",
    "for i in reversed(range(count_seconds + 1)):\n",
    "    if i > 0:\n",
    "        print(i, end='>>>')\n",
    "        time.sleep(1)\n",
    "    else:\n",
    "        print('Start')"
   ]
  },
  {
   "cell_type": "code",
   "execution_count": 15,
   "metadata": {},
   "outputs": [
    {
     "name": "stdout",
     "output_type": "stream",
     "text": [
      "3>>>2>>>1>>>Start\n"
     ]
    }
   ],
   "source": [
    "import time\n",
    "for i in reversed(range(count_seconds + 1)):\n",
    "    if i > 0:\n",
    "        print(i, end='>>>', flush= True)\n",
    "        time.sleep(1)\n",
    "    else:\n",
    "        print('Start')"
   ]
  },
  {
   "cell_type": "code",
   "execution_count": 18,
   "metadata": {},
   "outputs": [
    {
     "name": "stdout",
     "output_type": "stream",
     "text": [
      "Md. Abdul Alim\n"
     ]
    }
   ],
   "source": [
    "b = 'Abdul'\n",
    "print('Md.', b, 'Alim')"
   ]
  },
  {
   "cell_type": "code",
   "execution_count": 20,
   "metadata": {},
   "outputs": [
    {
     "data": {
      "text/plain": [
       "'Hello Milon!!\\n'"
      ]
     },
     "execution_count": 20,
     "metadata": {},
     "output_type": "execute_result"
    }
   ],
   "source": [
    "import io\n",
    "dum=io.StringIO()\n",
    "print(\"Hello Milon!!\", file = dum)\n",
    "dum.getvalue()"
   ]
  },
  {
   "cell_type": "code",
   "execution_count": 23,
   "metadata": {},
   "outputs": [
    {
     "name": "stdout",
     "output_type": "stream",
     "text": [
      "AbdulAlim\n",
      "x = 5\n",
      "ABDUL\n",
      "Hello@MILON\n"
     ]
    }
   ],
   "source": [
    "print(\"AbdulAlim\")\n",
    "x = 5\n",
    "print(\"x =\",x)\n",
    "print(\"A\",'B','D','U','L', sep='')\n",
    "print(\"Hello\",end='@')\n",
    "print(\"MILON\")"
   ]
  },
  {
   "cell_type": "markdown",
   "metadata": {},
   "source": [
    "# print url"
   ]
  },
  {
   "cell_type": "markdown",
   "metadata": {},
   "source": [
    "https://www.geeksforgeeks.org/python-testing-output-to-stdout/?ref=rp"
   ]
  },
  {
   "cell_type": "code",
   "execution_count": 36,
   "metadata": {},
   "outputs": [
    {
     "name": "stdout",
     "output_type": "stream",
     "text": [
      "https://www.healthcare.live\n"
     ]
    }
   ],
   "source": [
    "def urlprint(protocol, host, domain):\n",
    "    url = '{}://{}.{}'.format(protocol, host, domain)\n",
    "    print(url)\n",
    "urlprint('https', 'www', 'healthcare.live')"
   ]
  },
  {
   "cell_type": "markdown",
   "metadata": {},
   "source": [
    "Test code for the above code"
   ]
  },
  {
   "cell_type": "code",
   "execution_count": 37,
   "metadata": {},
   "outputs": [],
   "source": [
    "from io import StringIO\n",
    "from unittest import TestCase\n",
    "from unittest.mock import patch\n",
    "# import mymodule\n",
    "\n",
    "class TestURLPrint(TestCase):\n",
    "    def test_url_gets_to_stdout(self):\n",
    "        protocol = 'https'\n",
    "        host = 'www'\n",
    "        domain = 'healthcare.com'\n",
    "        expected_url = '{}://{}.{}\\n'.format(protocol,host,domain)\n",
    "        \n",
    "        with patch('sys.stdout', new = StringIO()) as fake_out:\n",
    "            #mymodule.urlprint(protocol, host, domain)\n",
    "            urlprint(protocol, host, domain)\n",
    "            self.assertEqual(fake_out.getvalue(), exected_url)"
   ]
  },
  {
   "cell_type": "code",
   "execution_count": 39,
   "metadata": {},
   "outputs": [
    {
     "name": "stdout",
     "output_type": "stream",
     "text": [
      "1 2 3 4 "
     ]
    }
   ],
   "source": [
    "a = [1, 2, 3, 4]\n",
    "for i in range(4): \n",
    "    print(a[i],end =\" \")"
   ]
  },
  {
   "cell_type": "markdown",
   "metadata": {},
   "source": [
    "# Python | sep parameter in print()"
   ]
  },
  {
   "cell_type": "code",
   "execution_count": 41,
   "metadata": {},
   "outputs": [
    {
     "name": "stdout",
     "output_type": "stream",
     "text": [
      "GFG\n",
      "09-12-2016\n",
      "live@healthcare\n"
     ]
    }
   ],
   "source": [
    "print('G','F','G', sep='')\n",
    "print('09','12','2016', sep='-')\n",
    "print('live','healthcare', sep='@')"
   ]
  },
  {
   "cell_type": "code",
   "execution_count": 45,
   "metadata": {},
   "outputs": [
    {
     "name": "stdout",
     "output_type": "stream",
     "text": [
      "GFG\n",
      "09-12-2016\n",
      "livehealthcare@"
     ]
    }
   ],
   "source": [
    "print('G','F', sep='', end='')\n",
    "print('G')\n",
    "print('09','12','2016', sep='-', end='\\n')\n",
    "print('live','healthcare', sep='', end='@')"
   ]
  },
  {
   "cell_type": "markdown",
   "metadata": {},
   "source": [
    "# Python | Output Formatting"
   ]
  },
  {
   "cell_type": "markdown",
   "metadata": {},
   "source": [
    "https://www.geeksforgeeks.org/python-output-formatting/?ref=lbp"
   ]
  },
  {
   "cell_type": "code",
   "execution_count": 49,
   "metadata": {},
   "outputs": [
    {
     "name": "stdout",
     "output_type": "stream",
     "text": [
      "Geeks :  1, Portal :  5.33\n",
      "Total students : 240, Boys : 120\n",
      "    031\n",
      " 3.561E+02\n"
     ]
    }
   ],
   "source": [
    "# print integer and float value\n",
    "print(\"Geeks : %2d, Portal : %5.2f\" % (1, 05.333))\n",
    "# print integer value\n",
    "print(\"Total students : %3d, Boys : %2d\" % (240, 120))\n",
    "# print octal value\n",
    "print(\"%7.3o\" % (25))\n",
    "# print exponential value\n",
    "print(\"%10.3E\" % (356.08977))"
   ]
  },
  {
   "cell_type": "code",
   "execution_count": 54,
   "metadata": {},
   "outputs": [
    {
     "name": "stdout",
     "output_type": "stream",
     "text": [
      "I love me for \"myself!\"\n",
      "alim and milon\n",
      "milon and alim\n",
      "I love me for \"myself!\"\n",
      "alm and milon\n"
     ]
    }
   ],
   "source": [
    "# using format() method\n",
    "print('I love {} for \"{}!\"'.format('me', 'myself'))\n",
    "# using format() method and refering \n",
    "# a position of the object\n",
    "print('{0} and {1}'.format('alim', 'milon'))\n",
    "print('{1} and {0}'.format('alim', 'milon'))\n",
    "# the above formatting can also be done by using f-Strings\n",
    "# Although, this features work only with python 3.6 or above.\n",
    " \n",
    "print(f\"I love {'me'} for \\\"{'myself'}!\\\"\")\n",
    " \n",
    "# using format() method and refering \n",
    "# a position of the object\n",
    "print(f\"{'alm'} and {'milon'}\")"
   ]
  },
  {
   "cell_type": "code",
   "execution_count": 55,
   "metadata": {},
   "outputs": [
    {
     "name": "stdout",
     "output_type": "stream",
     "text": [
      "Number one portal is Geeks, For, and Geeks.\n",
      "Geeks :12, Portal :    0.55\n",
      "Second argument:  11, first one:   47.42\n",
      "Geeks:   453,  Portal:    59.06\n"
     ]
    }
   ],
   "source": [
    "# combining positional and keyword arguments\n",
    "print('Number one portal is {0}, {1}, and {other}.'\n",
    "     .format('Geeks', 'For', other ='Geeks'))\n",
    " \n",
    "# using format() method with number \n",
    "print(\"Geeks :{0:2d}, Portal :{1:8.2f}\".\n",
    "      format(12, 00.546))\n",
    " \n",
    "# Changing positional argument\n",
    "print(\"Second argument: {1:3d}, first one: {0:7.2f}\".\n",
    "      format(47.42, 11))\n",
    " \n",
    "print(\"Geeks: {a:5d},  Portal: {p:8.2f}\".\n",
    "     format(a = 453, p = 59.058))"
   ]
  },
  {
   "cell_type": "code",
   "execution_count": 60,
   "metadata": {},
   "outputs": [
    {
     "name": "stdout",
     "output_type": "stream",
     "text": [
      "abdul:420; for:20; alim:44444\n",
      "I love healthcare treatment Portal\n"
     ]
    }
   ],
   "source": [
    "#used in dictionary\n",
    "tab = {'abdul':420, 'for':20, 'alim':44444}\n",
    "# using format() in dictionary\n",
    "print('abdul:{0[abdul]:d}; for:{0[for]:d}; alim:{0[alim]:d}'.format(tab))\n",
    "\n",
    "data = dict(fun =\"healthcare\", adj =\"Portal\")\n",
    "# using format() in dictionary\n",
    "print(\"I love {fun} treatment {adj}\".format(**data))"
   ]
  },
  {
   "cell_type": "code",
   "execution_count": 61,
   "metadata": {},
   "outputs": [
    {
     "name": "stdout",
     "output_type": "stream",
     "text": [
      "Center aligned string with fillchr: \n",
      "##########I love geeksforgeeks##########\n",
      "The left aligned string is : \n",
      "I love geeksforgeeks--------------------\n",
      "The right aligned string is : \n",
      "--------------------I love geeksforgeeks\n"
     ]
    }
   ],
   "source": [
    "# format a output using\n",
    "# string() method\n",
    " \n",
    "cstr = \"I love geeksforgeeks\"\n",
    "   \n",
    "# Printing the center aligned  \n",
    "# string with fillchr \n",
    "print (\"Center aligned string with fillchr: \") \n",
    "print (cstr.center(40, '#')) \n",
    " \n",
    "# Printing the left aligned  \n",
    "# string with \"-\" padding  \n",
    "print (\"The left aligned string is : \") \n",
    "print (cstr.ljust(40, '-'))\n",
    " \n",
    "# Printing the right aligned string \n",
    "# with \"-\" padding  \n",
    "print (\"The right aligned string is : \") \n",
    "print (cstr.rjust(40, '-'))"
   ]
  },
  {
   "cell_type": "code",
   "execution_count": null,
   "metadata": {},
   "outputs": [],
   "source": []
  }
 ],
 "metadata": {
  "kernelspec": {
   "display_name": "Python 3",
   "language": "python",
   "name": "python3"
  },
  "language_info": {
   "codemirror_mode": {
    "name": "ipython",
    "version": 3
   },
   "file_extension": ".py",
   "mimetype": "text/x-python",
   "name": "python",
   "nbconvert_exporter": "python",
   "pygments_lexer": "ipython3",
   "version": "3.7.9"
  }
 },
 "nbformat": 4,
 "nbformat_minor": 4
}
