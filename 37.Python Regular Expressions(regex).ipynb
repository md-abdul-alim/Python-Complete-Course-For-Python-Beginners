{
 "cells": [
  {
   "cell_type": "code",
   "execution_count": 5,
   "metadata": {},
   "outputs": [
    {
     "name": "stdout",
     "output_type": "stream",
     "text": [
      "There is Milon\n"
     ]
    }
   ],
   "source": [
    "#import the Regex module\n",
    "import re\n",
    "#----Match found-----------\n",
    "if re.search(\"Milon\", \"Hi i am Abdul Alim Milon\"):\n",
    "    print('There is Milon')\n",
    "else:\n",
    "    print(\"Search not Found\")"
   ]
  },
  {
   "cell_type": "code",
   "execution_count": 8,
   "metadata": {},
   "outputs": [
    {
     "name": "stdout",
     "output_type": "stream",
     "text": [
      "ape \n",
      "ape1\n",
      "apex\n"
     ]
    }
   ],
   "source": [
    "#...Get All Matches....\n",
    "#finall() returns a list of matches\n",
    "# . is used to match any 1 character or space\n",
    "allapes = re.findall(\"ape.\", 'The ape was a ape1 at the apex')\n",
    "for i in allapes:\n",
    "    print(i)"
   ]
  },
  {
   "cell_type": "code",
   "execution_count": 10,
   "metadata": {},
   "outputs": [
    {
     "name": "stdout",
     "output_type": "stream",
     "text": [
      "(4, 8)\n",
      "ape \n",
      "(19, 23)\n",
      "apex\n"
     ]
    }
   ],
   "source": [
    "# finditer returns an iterator of mathcing objects\n",
    "#You can use span to get the location\n",
    "\n",
    "theStr = \"The ape was at the apex\"\n",
    "for i in re.finditer(\"ape.\",theStr):\n",
    "    \n",
    "    #Span returns a value\n",
    "    locTuple = i.span()\n",
    "    print(locTuple)\n",
    "    \n",
    "    #Slice the match out using the tuple values\n",
    "    print(theStr[locTuple[0]:locTuple[1]])"
   ]
  },
  {
   "cell_type": "code",
   "execution_count": 11,
   "metadata": {},
   "outputs": [
    {
     "name": "stdout",
     "output_type": "stream",
     "text": [
      "rat\n",
      "mat\n",
      "fat\n",
      "pat\n"
     ]
    },
    {
     "data": {
      "text/plain": [
       "<function print>"
      ]
     },
     "execution_count": 11,
     "metadata": {},
     "output_type": "execute_result"
    }
   ],
   "source": [
    "#---------Match 1 of Several Letters.................\n",
    "\n",
    "#Square brackets will match any one of the characters between\n",
    "#The brackets not including upper and lowercase varieties\n",
    "#unless they are listed\n",
    "\n",
    "animalStr = \"Car rat mat fat pat\"\n",
    "allAnimals = re.findall(\"[crmfp]at\", animalStr)\n",
    "for i in allAnimals:\n",
    "    print(i)\n",
    "print"
   ]
  },
  {
   "cell_type": "code",
   "execution_count": 12,
   "metadata": {},
   "outputs": [
    {
     "name": "stdout",
     "output_type": "stream",
     "text": [
      "Cat\n",
      "mat\n",
      "fat\n",
      "\n"
     ]
    }
   ],
   "source": [
    "#We can also allow for characters in a range\n",
    "#Remember to include upper and lowercase letters\n",
    "animalStr = \"Cat rat mat fat pat\"\n",
    "someAnimals = re.findall(\"[c-mC-M]at\", animalStr)\n",
    "for i in someAnimals:\n",
    "    print(i)\n",
    "print()"
   ]
  },
  {
   "cell_type": "code",
   "execution_count": 13,
   "metadata": {},
   "outputs": [
    {
     "name": "stdout",
     "output_type": "stream",
     "text": [
      "mat\n",
      "fat\n",
      "pat\n",
      "\n"
     ]
    }
   ],
   "source": [
    "# Use ^ to denote any character but whatever characters are between the brackets\n",
    "animalStr = \"Cat rat mat fat pat\"\n",
    "someAnimals = re.findall(\"[^Cr]at\", animalStr)\n",
    "for i in someAnimals:\n",
    "    print(i)\n",
    "    \n",
    "print()"
   ]
  },
  {
   "cell_type": "code",
   "execution_count": 14,
   "metadata": {},
   "outputs": [
    {
     "name": "stdout",
     "output_type": "stream",
     "text": [
      "owlr owlt mat pat\n"
     ]
    }
   ],
   "source": [
    "#------------Replace all Matches----------------\n",
    "# Replace matching items in a string\n",
    "owlFood = \"ratr catt mat pat\"\n",
    "\n",
    "#You can complie a regex into pattern objects which provide additional methods\n",
    "regex = re.compile(\"[cr]at\")\n",
    "\n",
    "#sub() replaces items that match the regex in the string with the 1st attribute string passed to sub\n",
    "owlFood = regex.sub('owl',owlFood)\n",
    "print(owlFood)"
   ]
  },
  {
   "cell_type": "code",
   "execution_count": 16,
   "metadata": {},
   "outputs": [
    {
     "name": "stdout",
     "output_type": "stream",
     "text": [
      "Find \\stuff :  None\n",
      "Find \\stuff :  <re.Match object; span=(8, 14), match='\\\\stuff'>\n",
      "Find \\stuff :  <re.Match object; span=(8, 14), match='\\\\stuff'>\n"
     ]
    }
   ],
   "source": [
    "#------ Solving Backslash problems--------------\n",
    "#regex use the backslash to designate special characters and python does the same inside strings which causes issues.\n",
    "# Let's try to get \"\\\\stuff\" cut of a string\n",
    "randStr = \"Here is \\\\stuff\"\n",
    "\n",
    "# This won't find it\n",
    "print(\"Find \\\\stuff : \", re.search(\"\\\\stuff\", randStr))\n",
    "#This does, but we have to put in 4 slashes which is messy\n",
    "print(\"Find \\\\stuff : \", re.search(\"\\\\\\\\stuff\", randStr))\n",
    "\n",
    "#You can get around this by using raw strings which donot treat backslashes as special\n",
    "print(\"Find \\\\stuff : \", re.search(r\"\\\\stuff\", randStr))"
   ]
  },
  {
   "cell_type": "code",
   "execution_count": 20,
   "metadata": {},
   "outputs": [
    {
     "name": "stdout",
     "output_type": "stream",
     "text": [
      "Matches : 2\n",
      "Matches : ['F.B.I', 'I.R.S']\n"
     ]
    }
   ],
   "source": [
    "# --------------- Matching Any Character----------------\n",
    "# We saw that . matches any character, but what if we want to match a period. Backslash the period.\n",
    "# You do the same with [, ] and others\n",
    "randStr = \"F.B.Ii. I.R.S. CIA\"\n",
    "print(\"Matches :\", len(re.findall(\".\\..\\..\", randStr)))\n",
    "print(\"Matches :\", re.findall(\".\\..\\..\", randStr))"
   ]
  },
  {
   "cell_type": "code",
   "execution_count": 18,
   "metadata": {},
   "outputs": [
    {
     "name": "stdout",
     "output_type": "stream",
     "text": [
      "This is a long\n",
      "string that goes\n",
      "on for many lines\n",
      "This is a long string that goes on for many lines\n"
     ]
    }
   ],
   "source": [
    "#------------ Matching Whitespace ------------\n",
    "# We can match many whitespace characters\n",
    "randStr = \"\"\"This is a long\n",
    "string that goes\n",
    "on for many lines\"\"\"\n",
    "print(randStr)\n",
    "#Remove newlines\n",
    "regex = re.compile(\"\\n\")\n",
    "randStr = regex.sub(\" \", randStr)\n",
    "print(randStr)\n",
    "\n",
    "# You can also match\n",
    "#\\b : Bachspace\n",
    "#\\f : Form Feed\n",
    "#\\r : Carriage Return\n",
    "#\\t : Tab\n",
    "#\\v : Vertical Tab\n",
    "#You may need to remove \\r\\n on Windows"
   ]
  },
  {
   "cell_type": "code",
   "execution_count": 21,
   "metadata": {},
   "outputs": [
    {
     "name": "stdout",
     "output_type": "stream",
     "text": [
      "Matches: 5\n",
      "Matches: ['1', '2', '3', '4', '5']\n"
     ]
    }
   ],
   "source": [
    "# ------------- Matching Any Single Number --------------\n",
    "# \\d can be used instead of \n",
    "# \\D is the same as [^0-9]\n",
    "\n",
    "randStr = \"12345\"\n",
    "print(\"Matches:\", len(re.findall(\"\\d\", randStr)))\n",
    "print(\"Matches:\", re.findall(\"\\d\", randStr))"
   ]
  },
  {
   "cell_type": "code",
   "execution_count": 22,
   "metadata": {},
   "outputs": [
    {
     "name": "stdout",
     "output_type": "stream",
     "text": [
      "The digit has been matched\n",
      "Matches : 3\n"
     ]
    }
   ],
   "source": [
    "#-------------- Matching Multiple Numbers-----------\n",
    "# You can match multiple digits by following the d with {numOfValues}\n",
    "\n",
    "# Match 5 numbers only\n",
    "if re.search(\"\\d{5}\",\"12345\"):\n",
    "    print(\"The digit has been matched\")\n",
    "# You can also match within a range\n",
    "# Match values that are between 5 and 7 digits\n",
    "numStr = \"123 12345 123456 1234567\"\n",
    "print(\"Matches :\", len(re.findall(\"\\d{5,7}\",numStr)))"
   ]
  },
  {
   "cell_type": "code",
   "execution_count": 30,
   "metadata": {},
   "outputs": [
    {
     "name": "stdout",
     "output_type": "stream",
     "text": [
      "It is a phone number\n",
      "It is a valid name\n"
     ]
    }
   ],
   "source": [
    "#-----------Matching any single letter or Number------------\n",
    "# \\w is the same as [a-zA-Z0-9_]\n",
    "#W is the same as [^a-zA-Z0-9_]\n",
    "\n",
    "phoneNumber = '4162-55-18212'\n",
    "#check if it is a phone number\n",
    "if re.search(\"\\w{4}-\\w{2}-\\w{5}\", phoneNumber):\n",
    "    print(\"It is a phone number\")\n",
    "#Check for valid first name between 2 and 20 characters\n",
    "if re.search(\"\\w{2,20}\", \"Ultraman dfdsf\"):\n",
    "    print(\"It is a valid name\")"
   ]
  },
  {
   "cell_type": "code",
   "execution_count": 31,
   "metadata": {},
   "outputs": [
    {
     "name": "stdout",
     "output_type": "stream",
     "text": [
      "it is a valid full name\n"
     ]
    }
   ],
   "source": [
    "#.................... Matching whitespace.................\n",
    "#\\s is the same as [\\f\\n\\r\\t\\v] #small s\n",
    "#\\S is the same as [\\f\\n\\r\\t\\v] # capital s\n",
    "\n",
    "#check for valid first and last name with a space\n",
    "if re.search(\"\\w{2,20}\\s\\w{2,20}\",\"Toshiba Laptop\"):\n",
    "    print(\"it is a valid full name\")"
   ]
  },
  {
   "cell_type": "code",
   "execution_count": 32,
   "metadata": {},
   "outputs": [
    {
     "name": "stdout",
     "output_type": "stream",
     "text": [
      "Matches : 3\n",
      "Matches : ['a', 'a', 'a']\n"
     ]
    }
   ],
   "source": [
    "#-..............Matching one or more..................\n",
    "# + matches 1 or more characters\n",
    "\n",
    "#Match a followed by 1 or more characters\n",
    "print(\"Matches :\", len(re.findall(\"a+\", \"a as ape bug\")))\n",
    "print(\"Matches :\", re.findall(\"a+\", \"a as ape bug\"))"
   ]
  },
  {
   "cell_type": "code",
   "execution_count": 34,
   "metadata": {},
   "outputs": [
    {
     "name": "stdout",
     "output_type": "stream",
     "text": [
      "Email Matches:  1\n",
      "Email Matches:  ['db@aol.com']\n"
     ]
    }
   ],
   "source": [
    "#............. Email address checking..............\n",
    "# Create a regex that matches email addresses from a list\n",
    "#1. 1 to 20 lowercase adn uppercase letters, numbers, plus ._%+-\n",
    "#2. An @ symbol\n",
    "#3. 2 to 20 lowercase and uppercase letters, numbers, plus .-\n",
    "#4. A period\n",
    "#5. 2 to 3 lowercase and uppercase letters\n",
    "\n",
    "emailList = 'db@aol.com m@.com @apple.com bd@.com'\n",
    "print(\"Email Matches: \", len(re.findall(\"[\\w._%+-]{1,20}@[\\w.-]{2,30}.[A-Za-z]{2,3}\", emailList)))\n",
    "print(\"Email Matches: \", re.findall(\"[\\w._%+-]{1,20}@[\\w.-]{2,30}.[A-Za-z]{2,3}\", emailList))"
   ]
  },
  {
   "cell_type": "code",
   "execution_count": null,
   "metadata": {},
   "outputs": [],
   "source": []
  }
 ],
 "metadata": {
  "kernelspec": {
   "display_name": "Python 3",
   "language": "python",
   "name": "python3"
  },
  "language_info": {
   "codemirror_mode": {
    "name": "ipython",
    "version": 3
   },
   "file_extension": ".py",
   "mimetype": "text/x-python",
   "name": "python",
   "nbconvert_exporter": "python",
   "pygments_lexer": "ipython3",
   "version": "3.7.9"
  }
 },
 "nbformat": 4,
 "nbformat_minor": 4
}
