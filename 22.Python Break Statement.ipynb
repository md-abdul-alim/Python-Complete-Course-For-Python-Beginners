{
 "cells": [
  {
   "cell_type": "code",
   "execution_count": 8,
   "metadata": {},
   "outputs": [
    {
     "name": "stdout",
     "output_type": "stream",
     "text": [
      "Number to be guessed:  18\n",
      "Number Guessed:  1\n",
      "Number Guessed:  2\n",
      "Number Guessed:  3\n",
      "Number Guessed:  4\n",
      "Number Guessed:  5\n",
      "Number Guessed:  6\n",
      "Number Guessed:  7\n",
      "Number Guessed:  8\n",
      "Number Guessed:  9\n",
      "Number Guessed:  10\n",
      "Number Guessed:  11\n",
      "Number Guessed:  12\n",
      "Number Guessed:  13\n",
      "Number Guessed:  14\n",
      "Number Guessed:  15\n",
      "Number Guessed:  16\n",
      "Number Guessed:  17\n",
      "Number Guessed:  18\n",
      "Random number has been guessed successfully!\n"
     ]
    }
   ],
   "source": [
    "import random as r\n",
    "rand = r.randrange(1,20) # GEnerating a random number between 1 and 19\n",
    "print(\"Number to be guessed: \", rand)\n",
    "i=1\n",
    "while True:\n",
    "    print(\"Number Guessed: \", i)\n",
    "    if(i == rand): #It the number guessed is correct the this block will be executed\n",
    "        print(\"Random number has been guessed successfully!\")\n",
    "        break #Break statements stops and exits from the loop\n",
    "    i +=1"
   ]
  },
  {
   "cell_type": "code",
   "execution_count": null,
   "metadata": {},
   "outputs": [],
   "source": []
  },
  {
   "cell_type": "code",
   "execution_count": null,
   "metadata": {},
   "outputs": [],
   "source": []
  }
 ],
 "metadata": {
  "kernelspec": {
   "display_name": "Python 3",
   "language": "python",
   "name": "python3"
  },
  "language_info": {
   "codemirror_mode": {
    "name": "ipython",
    "version": 3
   },
   "file_extension": ".py",
   "mimetype": "text/x-python",
   "name": "python",
   "nbconvert_exporter": "python",
   "pygments_lexer": "ipython3",
   "version": "3.7.9"
  }
 },
 "nbformat": 4,
 "nbformat_minor": 4
}
