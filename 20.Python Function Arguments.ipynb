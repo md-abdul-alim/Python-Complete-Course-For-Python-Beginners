{
 "cells": [
  {
   "cell_type": "markdown",
   "metadata": {},
   "source": [
    "passing variable number of arguments\n",
    "(1.Python Default Arguments\n",
    "2.Python Keyword Arguments\n",
    "3.Python Arbitrary Arguments)"
   ]
  },
  {
   "cell_type": "code",
   "execution_count": 1,
   "metadata": {},
   "outputs": [
    {
     "name": "stdout",
     "output_type": "stream",
     "text": [
      "Max Number:  222\n"
     ]
    }
   ],
   "source": [
    "def findMax(a,b):\n",
    "    if a>b:\n",
    "        return a\n",
    "    else:\n",
    "        return b\n",
    "print(\"Max Number: \",findMax(111,222))"
   ]
  },
  {
   "cell_type": "code",
   "execution_count": 3,
   "metadata": {},
   "outputs": [
    {
     "name": "stdout",
     "output_type": "stream",
     "text": [
      "Hello  Agnibha , have a nice day.\n",
      "Hello  Agnibha , How are you?(default)\n"
     ]
    }
   ],
   "source": [
    "def hello(name, msg = \", How are you?(default)\"):\n",
    "    print(\"Hello \", name, msg)\n",
    "hello(\"Agnibha\", \", have a nice day.\")\n",
    "hello(\"Agnibha\")"
   ]
  },
  {
   "cell_type": "code",
   "execution_count": 4,
   "metadata": {},
   "outputs": [
    {
     "name": "stdout",
     "output_type": "stream",
     "text": [
      "Sum of all:  21\n"
     ]
    }
   ],
   "source": [
    "def sumAll(*args): #function witharbitrary arguments\n",
    "    sum = 0\n",
    "    for i in args:\n",
    "        sum +=i\n",
    "    return sum\n",
    "\n",
    "print(\"Sum of all: \", sumAll(1,2,3,4,5,6))"
   ]
  },
  {
   "cell_type": "code",
   "execution_count": 10,
   "metadata": {},
   "outputs": [
    {
     "name": "stdout",
     "output_type": "stream",
     "text": [
      "a = 22, b = 33, c = 44\n",
      "a = 66, b = 77, c = default\n",
      "a = 32, b = 23, c = 88\n",
      "a = 32, b = 23, c = default\n"
     ]
    }
   ],
   "source": [
    "def defaultArg(a,b,c=\"default\"):\n",
    "    print(\"a = {}, b = {}, c = {}\".format(a,b,c))\n",
    "    \n",
    "defaultArg(22,33,44)\n",
    "defaultArg(66,77)\n",
    "defaultArg(b=23,a=32,c=88)\n",
    "defaultArg(b=23,a=32)"
   ]
  },
  {
   "cell_type": "code",
   "execution_count": null,
   "metadata": {},
   "outputs": [],
   "source": []
  }
 ],
 "metadata": {
  "kernelspec": {
   "display_name": "Python 3",
   "language": "python",
   "name": "python3"
  },
  "language_info": {
   "codemirror_mode": {
    "name": "ipython",
    "version": 3
   },
   "file_extension": ".py",
   "mimetype": "text/x-python",
   "name": "python",
   "nbconvert_exporter": "python",
   "pygments_lexer": "ipython3",
   "version": "3.7.9"
  }
 },
 "nbformat": 4,
 "nbformat_minor": 4
}
