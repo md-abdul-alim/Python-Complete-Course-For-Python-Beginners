{
 "cells": [
  {
   "cell_type": "code",
   "execution_count": 2,
   "metadata": {},
   "outputs": [],
   "source": [
    "#tuple closed with first braket\n",
    "#list closed with third braket\n",
    "#List is mutable and tuple is inmutable(can not be updated)\n",
    "#normally tuple is used for heterogeneous(different) datatypes and list used for homogeneous(similar) datatypes\n",
    "#since tuple are immutable, iterating, so tuple is faster than list\n",
    "#if we have data that doesn't change, implementing is as tuple will be guarantee that it remains write-protected."
   ]
  },
  {
   "cell_type": "code",
   "execution_count": 3,
   "metadata": {},
   "outputs": [
    {
     "name": "stdout",
     "output_type": "stream",
     "text": [
      "()\n",
      "(1, 2, 3)\n",
      "(101, 'Alim', 302, 'Milon')\n"
     ]
    }
   ],
   "source": [
    "#creating an empty tuple\n",
    "tuple1=()\n",
    "print(tuple1)\n",
    "#creating tupes with integer elements\n",
    "tuple2=(1,2,3)\n",
    "print(tuple2)\n",
    "#tuple with mixed datatypes\n",
    "tuple3= (101,\"Alim\",302,\"Milon\")\n",
    "print(tuple3)"
   ]
  },
  {
   "cell_type": "code",
   "execution_count": 4,
   "metadata": {},
   "outputs": [
    {
     "name": "stdout",
     "output_type": "stream",
     "text": [
      "('Apple', [1, 2, 3], (4, 5, 6))\n",
      "(233, 'Milon', 34242, 'CSE')\n",
      "233\n",
      "Milon\n",
      "34242\n",
      "CSE\n",
      "<class 'tuple'>\n"
     ]
    }
   ],
   "source": [
    "#creation of nested tuple(list inside tuple)\n",
    "t4=(\"Apple\",[1,2,3],(4,5,6))\n",
    "print(t4)\n",
    "#tuple can be created without any parentheses\n",
    "#also called tuple packing\n",
    "t5=233,\"Milon\",34242,\"CSE\"\n",
    "print(t5)\n",
    "#tuple unpacking is also possible\n",
    "empid,empname,empsal,empdept = t5\n",
    "print(empid)\n",
    "print(empname)\n",
    "print(empsal)\n",
    "print(empdept)\n",
    "\n",
    "print(type(t5))"
   ]
  },
  {
   "cell_type": "code",
   "execution_count": 5,
   "metadata": {},
   "outputs": [
    {
     "name": "stdout",
     "output_type": "stream",
     "text": [
      "('s', 'd', 'w', 'e', 't', 'y', 'f')\n",
      "w\n",
      "y\n",
      "e\n",
      "('point', [1, 2, 4], (5, 6, 7))\n",
      "n\n",
      "4\n",
      "5\n"
     ]
    }
   ],
   "source": [
    "#accessing elements in a tuple\n",
    "t6=('s','d','w','e','t','y','f')\n",
    "print(t6)\n",
    "print(t6[2])\n",
    "print(t6[5])\n",
    "print(t6[3])\n",
    "\n",
    "#nested tuple\n",
    "nest_t7=(\"point\",[1,2,4],(5,6,7))\n",
    "print(nest_t7)\n",
    "print(nest_t7[0][3])\n",
    "print(nest_t7[1][2])\n",
    "print(nest_t7[2][0])"
   ]
  },
  {
   "cell_type": "code",
   "execution_count": 6,
   "metadata": {},
   "outputs": [
    {
     "name": "stdout",
     "output_type": "stream",
     "text": [
      "('t', 'f', 'c')\n",
      "('e', 't', 'f')\n",
      "('s', 'g')\n",
      "('e', 't', 'f', 'c', 's', 'g')\n"
     ]
    }
   ],
   "source": [
    "#slicing tuple contents\n",
    "t8 = ('e','t','f','c','s','g')\n",
    "print(t8[1:4])\n",
    "print(t8[:-3])\n",
    "print(t8[4:])\n",
    "print(t8[:])"
   ]
  },
  {
   "cell_type": "code",
   "execution_count": 8,
   "metadata": {},
   "outputs": [
    {
     "name": "stdout",
     "output_type": "stream",
     "text": [
      "('e', 't', 'f', 'c', 's', 'g')\n",
      "('r', 'd', 'w', 'a', 'o', 'i', 'c')\n"
     ]
    }
   ],
   "source": [
    "#tuple elements are immutable\n",
    "t9 = ('e','t','f','c','s','g')\n",
    "print(t9)\n",
    "#t9[2]='X' #error\n",
    "\n",
    "#tupels can be reassigned\n",
    "t9=('r','d','w','a','o','i','c')\n",
    "print(t9)"
   ]
  },
  {
   "cell_type": "code",
   "execution_count": 9,
   "metadata": {},
   "outputs": [
    {
     "name": "stdout",
     "output_type": "stream",
     "text": [
      "('w', 'd', 'a')\n",
      "('o', 'k', 'e')\n",
      "('w', 'd', 'a', 'o', 'k', 'e')\n",
      "again,again,again,again,\n"
     ]
    }
   ],
   "source": [
    "#concatenation of tuples\n",
    "t10=('w','d','a')\n",
    "t11=('o','k','e')\n",
    "print(t10)\n",
    "print(t11)\n",
    "print(t10+t11)\n",
    "print((\"again,\")*4)"
   ]
  },
  {
   "cell_type": "code",
   "execution_count": 11,
   "metadata": {},
   "outputs": [
    {
     "ename": "NameError",
     "evalue": "name 't12' is not defined",
     "output_type": "error",
     "traceback": [
      "\u001b[1;31m---------------------------------------------------------------------------\u001b[0m",
      "\u001b[1;31mNameError\u001b[0m                                 Traceback (most recent call last)",
      "\u001b[1;32m<ipython-input-11-d943fba8ba84>\u001b[0m in \u001b[0;36m<module>\u001b[1;34m\u001b[0m\n\u001b[0;32m      6\u001b[0m \u001b[1;31m#but can deleted entire tuple\u001b[0m\u001b[1;33m\u001b[0m\u001b[1;33m\u001b[0m\u001b[1;33m\u001b[0m\u001b[0m\n\u001b[0;32m      7\u001b[0m \u001b[1;32mdel\u001b[0m \u001b[0mt12\u001b[0m\u001b[1;33m\u001b[0m\u001b[1;33m\u001b[0m\u001b[0m\n\u001b[1;32m----> 8\u001b[1;33m \u001b[0mprint\u001b[0m\u001b[1;33m(\u001b[0m\u001b[0mt12\u001b[0m\u001b[1;33m)\u001b[0m\u001b[1;33m\u001b[0m\u001b[1;33m\u001b[0m\u001b[0m\n\u001b[0m",
      "\u001b[1;31mNameError\u001b[0m: name 't12' is not defined"
     ]
    }
   ],
   "source": [
    "#deletion operation on a tuple\n",
    "t12 =('s','d','w','e','t','y','f')\n",
    "#as immutableso elements can not be deleted\n",
    "#del t12[3] #error\n",
    "\n",
    "#but can deleted entire tuple\n",
    "del t12\n",
    "print(t12)"
   ]
  },
  {
   "cell_type": "code",
   "execution_count": 12,
   "metadata": {},
   "outputs": [
    {
     "name": "stdout",
     "output_type": "stream",
     "text": [
      "3\n",
      "1\n"
     ]
    }
   ],
   "source": [
    "#tuple methods\n",
    "t13 =('s','d','s','e','t','d','s')\n",
    "print(t13.count('s'))\n",
    "print(t13.index('d'))"
   ]
  },
  {
   "cell_type": "code",
   "execution_count": 13,
   "metadata": {},
   "outputs": [
    {
     "name": "stdout",
     "output_type": "stream",
     "text": [
      "True\n",
      "False\n",
      "False\n",
      "False\n"
     ]
    }
   ],
   "source": [
    "#tuple operations\n",
    "t14=('s','d','s','e','t','d','s')\n",
    "#membership\n",
    "print('s' in t14)\n",
    "print('d' not in t14)\n",
    "print('a' in t14)\n",
    "print('t' not in t14)"
   ]
  },
  {
   "cell_type": "code",
   "execution_count": 14,
   "metadata": {},
   "outputs": [
    {
     "name": "stdout",
     "output_type": "stream",
     "text": [
      "letter is -> s\n",
      "letter is -> d\n",
      "letter is -> s\n",
      "letter is -> e\n",
      "letter is -> t\n",
      "letter is -> d\n",
      "letter is -> s\n"
     ]
    }
   ],
   "source": [
    "#iteration through tuple elements\n",
    "t15= ('s','d','s','e','t','d','s')\n",
    "for letters in t15:\n",
    "    print(\"letter is ->\", letters)"
   ]
  },
  {
   "cell_type": "code",
   "execution_count": 15,
   "metadata": {},
   "outputs": [
    {
     "name": "stdout",
     "output_type": "stream",
     "text": [
      "(22, 33, 44, 55, 66, 77)\n",
      "77\n",
      "22\n",
      "[22, 33, 44, 55, 66, 77]\n",
      "6\n"
     ]
    }
   ],
   "source": [
    "#built-in functions with tuple\n",
    "t16=(22,33,44,55,66,77)\n",
    "print(t16)\n",
    "\n",
    "print(max(t16))\n",
    "print(min(t16))\n",
    "print(sorted(t16))\n",
    "print(len(t16))"
   ]
  },
  {
   "cell_type": "code",
   "execution_count": null,
   "metadata": {},
   "outputs": [],
   "source": []
  }
 ],
 "metadata": {
  "kernelspec": {
   "display_name": "Python 3",
   "language": "python",
   "name": "python3"
  },
  "language_info": {
   "codemirror_mode": {
    "name": "ipython",
    "version": 3
   },
   "file_extension": ".py",
   "mimetype": "text/x-python",
   "name": "python",
   "nbconvert_exporter": "python",
   "pygments_lexer": "ipython3",
   "version": "3.8.5"
  }
 },
 "nbformat": 4,
 "nbformat_minor": 4
}
