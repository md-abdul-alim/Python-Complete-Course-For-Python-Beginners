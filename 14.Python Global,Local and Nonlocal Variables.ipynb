{
 "cells": [
  {
   "cell_type": "code",
   "execution_count": 1,
   "metadata": {},
   "outputs": [
    {
     "name": "stdout",
     "output_type": "stream",
     "text": [
      "Global x =  global\n",
      "globalglobal\n",
      "local\n",
      "Global x =  globalglobal\n"
     ]
    }
   ],
   "source": [
    "#Global and Local variable with different name\n",
    "x = 'global' # Global variable can be accessed form anywhere\n",
    "def funct1():\n",
    "    global x\n",
    "    y = 'local'\n",
    "    x = x * 2\n",
    "    print(x)\n",
    "    print(y)\n",
    "print(\"Global x = \", x)\n",
    "funct1()\n",
    "print(\"Global x = \", x)"
   ]
  },
  {
   "cell_type": "code",
   "execution_count": 2,
   "metadata": {},
   "outputs": [
    {
     "name": "stdout",
     "output_type": "stream",
     "text": [
      "global a: 5\n",
      "local a: 10\n",
      "global a: 5\n"
     ]
    }
   ],
   "source": [
    "#Global and Local variable with same name\n",
    "a = 5 \n",
    "def funct2():\n",
    "    a = 10 #local variables are accessed from the block where it is defined only\n",
    "    print(\"local a:\",a)\n",
    "print(\"global a:\", a)\n",
    "funct2()\n",
    "print(\"global a:\", a)"
   ]
  },
  {
   "cell_type": "code",
   "execution_count": 3,
   "metadata": {},
   "outputs": [
    {
     "name": "stdout",
     "output_type": "stream",
     "text": [
      "inner:  nonlocal\n",
      "outer:  nonlocal\n"
     ]
    }
   ],
   "source": [
    "#Creating and using a Non-local variable\n",
    "def outer():\n",
    "    x = 'local'\n",
    "    def inner():\n",
    "        #nonlocal x\n",
    "        nonlocal x #Nonlocal variable are used in nested function\n",
    "        x = \"nonlocal\"\n",
    "        print(\"inner: \", x)\n",
    "    inner()\n",
    "    print(\"outer: \", x)\n",
    "outer()"
   ]
  },
  {
   "cell_type": "code",
   "execution_count": null,
   "metadata": {},
   "outputs": [],
   "source": []
  }
 ],
 "metadata": {
  "kernelspec": {
   "display_name": "Python 3",
   "language": "python",
   "name": "python3"
  },
  "language_info": {
   "codemirror_mode": {
    "name": "ipython",
    "version": 3
   },
   "file_extension": ".py",
   "mimetype": "text/x-python",
   "name": "python",
   "nbconvert_exporter": "python",
   "pygments_lexer": "ipython3",
   "version": "3.7.9"
  }
 },
 "nbformat": 4,
 "nbformat_minor": 4
}
