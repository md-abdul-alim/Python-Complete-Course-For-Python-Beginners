{
 "cells": [
  {
   "cell_type": "code",
   "execution_count": 6,
   "metadata": {},
   "outputs": [
    {
     "name": "stdout",
     "output_type": "stream",
     "text": [
      "[1, 2, 3, 4, 5]\n",
      "1\n",
      "2\n",
      "3\n",
      "4\n",
      "5\n"
     ]
    }
   ],
   "source": [
    "arr=[1,2,3,4,5]\n",
    "print(arr)\n",
    "print(arr[0])\n",
    "print(arr[1])\n",
    "print(arr[2])\n",
    "print(arr[3])\n",
    "print(arr[4])"
   ]
  },
  {
   "cell_type": "code",
   "execution_count": 7,
   "metadata": {},
   "outputs": [
    {
     "name": "stdout",
     "output_type": "stream",
     "text": [
      "['a', 'b', 'c', 'd', 'e']\n",
      "5\n",
      "['a', 'b', 'c', 'd', 'e', 'f']\n"
     ]
    }
   ],
   "source": [
    "alphabet =[\"a\",\"b\",\"c\",\"d\",\"e\"]\n",
    "print(alphabet)\n",
    "num=len(alphabet)\n",
    "print(num)\n",
    "alphabet.append(\"f\")\n",
    "print(alphabet)"
   ]
  },
  {
   "cell_type": "code",
   "execution_count": 8,
   "metadata": {},
   "outputs": [
    {
     "name": "stdout",
     "output_type": "stream",
     "text": [
      "['a', 'b', 'c', 'e', 'f']\n",
      "['a', 'b', 'c', 'e']\n",
      "['a', 'c', 'e']\n"
     ]
    }
   ],
   "source": [
    "del alphabet[3]\n",
    "print(alphabet)\n",
    "alphabet.remove(\"f\")\n",
    "print(alphabet)\n",
    "alphabet.pop(1)\n",
    "print(alphabet)"
   ]
  },
  {
   "cell_type": "code",
   "execution_count": 11,
   "metadata": {},
   "outputs": [
    {
     "name": "stdout",
     "output_type": "stream",
     "text": [
      "['Polo', 'Yellow', 'Cats Eye']\n",
      "['Polo', 'Richman', 'Cats Eye']\n",
      "['Polo', 'Richman', 'calven']\n"
     ]
    }
   ],
   "source": [
    "#modifying elements of an array using indexing\n",
    "brands=['Polo','Yellow','Cats Eye']\n",
    "print(brands)\n",
    "brands[1]=\"Richman\"\n",
    "print(brands)\n",
    "brands[-1]=\"calven\"\n",
    "print(brands)"
   ]
  },
  {
   "cell_type": "code",
   "execution_count": 13,
   "metadata": {},
   "outputs": [
    {
     "name": "stdout",
     "output_type": "stream",
     "text": [
      "[1, 2, 3]\n",
      "[1, 2, 3, 4, 5, 6]\n"
     ]
    }
   ],
   "source": [
    "#Concatenating two arrays using the + operator\n",
    "concat =[1,2,3]\n",
    "print(concat)\n",
    "concat= concat + [4,5,6]\n",
    "print(concat)"
   ]
  },
  {
   "cell_type": "code",
   "execution_count": 14,
   "metadata": {},
   "outputs": [
    {
     "name": "stdout",
     "output_type": "stream",
     "text": [
      "['m', 'm', 'm', 'm']\n"
     ]
    }
   ],
   "source": [
    "#Repeating element in an array\n",
    "repeat = [\"m\"]\n",
    "repeat = repeat * 4\n",
    "print(repeat)"
   ]
  },
  {
   "cell_type": "code",
   "execution_count": 15,
   "metadata": {},
   "outputs": [
    {
     "name": "stdout",
     "output_type": "stream",
     "text": [
      "['Polo', 'Yellow', 'Cats Eye', 'Richman', 'calven']\n",
      "['Yellow', 'Cats Eye', 'Richman']\n",
      "['Polo', 'Yellow', 'Cats Eye']\n",
      "['Yellow', 'Cats Eye', 'Richman', 'calven']\n",
      "['Cats Eye', 'Richman']\n"
     ]
    }
   ],
   "source": [
    "#slicing an array\n",
    "brands=['Polo','Yellow','Cats Eye','Richman','calven']\n",
    "print(brands)\n",
    "print(brands[1:4])\n",
    "print(brands[:3])\n",
    "print(brands[-4:])\n",
    "print(brands[-3:-1])"
   ]
  },
  {
   "cell_type": "code",
   "execution_count": 21,
   "metadata": {},
   "outputs": [
    {
     "name": "stdout",
     "output_type": "stream",
     "text": [
      "[1, 2]\n",
      "[5, 6]\n",
      "6\n",
      "8\n"
     ]
    }
   ],
   "source": [
    "#Declaring and defining multidimentional array\n",
    "mult=[[1,2],[3,4],[5,6],[7,8]]\n",
    "print(mult[0])\n",
    "print(mult[2])\n",
    "print(mult[2][1])\n",
    "print(mult[3][1])"
   ]
  },
  {
   "cell_type": "code",
   "execution_count": null,
   "metadata": {},
   "outputs": [],
   "source": []
  }
 ],
 "metadata": {
  "kernelspec": {
   "display_name": "Python 3",
   "language": "python",
   "name": "python3"
  },
  "language_info": {
   "codemirror_mode": {
    "name": "ipython",
    "version": 3
   },
   "file_extension": ".py",
   "mimetype": "text/x-python",
   "name": "python",
   "nbconvert_exporter": "python",
   "pygments_lexer": "ipython3",
   "version": "3.8.5"
  }
 },
 "nbformat": 4,
 "nbformat_minor": 4
}
