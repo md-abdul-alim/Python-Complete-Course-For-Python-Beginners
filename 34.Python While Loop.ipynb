{
 "cells": [
  {
   "cell_type": "code",
   "execution_count": 10,
   "metadata": {},
   "outputs": [
    {
     "name": "stdout",
     "output_type": "stream",
     "text": [
      "3\n",
      "2\n",
      "1\n"
     ]
    }
   ],
   "source": [
    "#Using while loop\n",
    "i = 3\n",
    "while i> 0:\n",
    "    print(i)\n",
    "    i -=1"
   ]
  },
  {
   "cell_type": "code",
   "execution_count": 12,
   "metadata": {},
   "outputs": [
    {
     "name": "stdout",
     "output_type": "stream",
     "text": [
      "5\n",
      "6\n",
      "7\n",
      "8\n",
      "9\n",
      "Displayed Successfullyy!\n"
     ]
    }
   ],
   "source": [
    "i = 5\n",
    "while i<10:\n",
    "    print(i)\n",
    "    i +=1\n",
    "else:\n",
    "    print(\"Displayed Successfullyy!\")"
   ]
  },
  {
   "cell_type": "code",
   "execution_count": 20,
   "metadata": {},
   "outputs": [
    {
     "name": "stdout",
     "output_type": "stream",
     "text": [
      "Please enter the number of layers...6\n",
      "     *\n",
      "    ***\n",
      "   *****\n",
      "  *******\n",
      " *********\n",
      "***********\n"
     ]
    }
   ],
   "source": [
    "#A program to display a pattern using loops\n",
    "n = int(input(\"Please enter the number of layers...\"))\n",
    "i = 1\n",
    "while i<=n:\n",
    "    j = 1\n",
    "    while j<= n-i:\n",
    "        print(\" \",end=\"\")\n",
    "        j = j + 1\n",
    "    j=1\n",
    "    while j<= 2*i - 1:\n",
    "        print(\"*\",end=\"\")\n",
    "        j = j + 1\n",
    "    print()\n",
    "    i = i + 1"
   ]
  },
  {
   "cell_type": "code",
   "execution_count": 21,
   "metadata": {},
   "outputs": [],
   "source": [
    "# A program to display a pattern using loops\n",
    "#n = 11 (must be odd)\n",
    "#m = (n+1)/2 = 6\n",
    "# for (*) => 2 * (m-i)+1\n",
    "# for (.) => 2 * (i-m)+1"
   ]
  },
  {
   "cell_type": "code",
   "execution_count": 23,
   "metadata": {},
   "outputs": [
    {
     "name": "stdout",
     "output_type": "stream",
     "text": [
      "Please enter the odd number of layers...5\n",
      "*****\n",
      " ***\n",
      "  *\n",
      " ***\n",
      "*****\n"
     ]
    }
   ],
   "source": [
    "n = int(input(\"Please enter the odd number of layers...\"))\n",
    "m = (n+1)/2\n",
    "i = 1\n",
    "while i<=n:\n",
    "    if (i > m):\n",
    "        b = n-i #b = number of blank\n",
    "        s = 2*(i-m)+1 # s = number of star\n",
    "    else:\n",
    "        b = i - 1 #blank\n",
    "        s = 2*(m-i)+1 #star\n",
    "    j = 1\n",
    "    while j<= b:\n",
    "        print(\" \",end=\"\")\n",
    "        j = j + 1\n",
    "    j=1\n",
    "    while j<= s:\n",
    "        print(\"*\",end=\"\")\n",
    "        j = j + 1\n",
    "    print()\n",
    "    i = i + 1"
   ]
  },
  {
   "cell_type": "code",
   "execution_count": 32,
   "metadata": {},
   "outputs": [
    {
     "name": "stdout",
     "output_type": "stream",
     "text": [
      "Please enter the number of layers...6\n",
      "     *\n"
     ]
    }
   ],
   "source": [
    "#A program to display a pattern using loops\n",
    "n = int(input(\"Please enter the number of layers...\"))\n",
    "i = 1\n",
    "if i<=n:\n",
    "    j = 1\n",
    "    while j<= n-i:\n",
    "        print(\" \",end=\"\")\n",
    "        j = j + 1\n",
    "    j=1\n",
    "    while j<= 2*i - 1:\n",
    "        print(\"*\",end=\"\")\n",
    "        j = j + 1\n",
    "    print()\n",
    "    i = i + 1\n",
    "elif i>n:\n",
    "    while j<= i-n:\n",
    "        print(\" \",end=\"\")\n",
    "        j = j - 1\n",
    "    \n",
    "    while j<= 2*n - 1:\n",
    "        print(\"*\",end=\"\")\n",
    "        j = j - 1\n",
    "    print()\n",
    "    i = i - 1"
   ]
  },
  {
   "cell_type": "code",
   "execution_count": null,
   "metadata": {},
   "outputs": [],
   "source": []
  }
 ],
 "metadata": {
  "kernelspec": {
   "display_name": "Python 3",
   "language": "python",
   "name": "python3"
  },
  "language_info": {
   "codemirror_mode": {
    "name": "ipython",
    "version": 3
   },
   "file_extension": ".py",
   "mimetype": "text/x-python",
   "name": "python",
   "nbconvert_exporter": "python",
   "pygments_lexer": "ipython3",
   "version": "3.7.9"
  }
 },
 "nbformat": 4,
 "nbformat_minor": 4
}
