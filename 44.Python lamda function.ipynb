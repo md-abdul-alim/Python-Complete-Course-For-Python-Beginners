{
 "cells": [
  {
   "cell_type": "code",
   "execution_count": 1,
   "metadata": {},
   "outputs": [
    {
     "name": "stdout",
     "output_type": "stream",
     "text": [
      "Doublee of 10 is 20\n"
     ]
    }
   ],
   "source": [
    "#anonymous function is a function that is defined without a name.it is defined by lambda\n",
    "a = lambda x:x*2\n",
    "print(\"Doublee of 10 is\", a(10))"
   ]
  },
  {
   "cell_type": "code",
   "execution_count": 5,
   "metadata": {},
   "outputs": [
    {
     "name": "stdout",
     "output_type": "stream",
     "text": [
      "[2, 4, 6, 8]\n"
     ]
    }
   ],
   "source": [
    "# Making a new list by taking only the even numbers from the old list\n",
    "my_list = [1,2,3,4,5,6,7,8,9]\n",
    "new_list = list(filter(lambda x: (x%2 == 0 ), my_list))\n",
    "#Filter function lis called with all the items in the list and a new list is returned which contains items for which\n",
    "#the function evaluates to True\n",
    "print(new_list)"
   ]
  },
  {
   "cell_type": "code",
   "execution_count": 3,
   "metadata": {},
   "outputs": [
    {
     "name": "stdout",
     "output_type": "stream",
     "text": [
      "[2, 4, 6, 8, 10, 12, 14, 16, 18]\n"
     ]
    }
   ],
   "source": [
    "# Program to doulbe each item in a list using map()\n",
    "my_list = [1,2,3,4,5,6,7,8,9]\n",
    "new_list = list(map(lambda x: x*2, my_list))\n",
    "print(new_list)"
   ]
  },
  {
   "cell_type": "code",
   "execution_count": null,
   "metadata": {},
   "outputs": [],
   "source": []
  }
 ],
 "metadata": {
  "kernelspec": {
   "display_name": "Python 3",
   "language": "python",
   "name": "python3"
  },
  "language_info": {
   "codemirror_mode": {
    "name": "ipython",
    "version": 3
   },
   "file_extension": ".py",
   "mimetype": "text/x-python",
   "name": "python",
   "nbconvert_exporter": "python",
   "pygments_lexer": "ipython3",
   "version": "3.7.9"
  }
 },
 "nbformat": 4,
 "nbformat_minor": 4
}
